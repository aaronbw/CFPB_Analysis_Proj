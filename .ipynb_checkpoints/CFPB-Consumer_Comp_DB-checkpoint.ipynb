{
 "cells": [
  {
   "cell_type": "markdown",
   "metadata": {
    "collapsed": true
   },
   "source": [
    "<a name=\"top\"></a>\n",
    "# Analysis of the CFPB Consumer Complaint Database Data\n",
    "Data provided by the [Consumer Finance Protection Bureau](https://www.consumerfinance.gov/). \n",
    "\n",
    "Per the CFPB:\n",
    "\n",
    ">**About the database**  \n",
    "The Consumer Complaint Database is a collection of complaints about consumer financial products and services that we sent to companies for response. Complaints are published after the company responds, confirming a commercial relationship with the consumer, or after 15 days, whichever comes first. Complaints referred to other regulators, such as complaints about depository institutions with less than $10 billion in assets, are not published in the Consumer Complaint Database. The database generally updates daily.\n",
    "\n",
    "Click the link below to jump to the steps taken for this project:  \n",
    "[Business Understanding](#business_understanding)  \n",
    "[Data Understanding](#data_understanding)  \n",
    "[Data Preparation](#data_prep)  \n",
    "[Exploratory Analysis](#explore) (Tableau)  \n",
    "[Deployment](#deploy)  (Tableau)"
   ]
  },
  {
   "cell_type": "markdown",
   "metadata": {},
   "source": [
    "***\n",
    "<a name=\"business_understanding\"></a>\n",
    "## Business Understanding\n",
    "### Business Objective  \n",
    "Utilizing data from the CFPB's Consumer Complaint Database, the business objective of this analysis is to determine key attributes of consumer complaints for the top 25 depository institutions regulated by the CFPB.\n",
    "\n",
    "### Business Questions  \n",
    "\n",
    "1. How many complaints has the CFPB handled for the top 25 depository institutions?  \n",
    "2. What is the average amount of complaints recieved per 30 days and how does that compare to the most recent 30 days?\n",
    "3. What are the most common issues reported by consumers?\n",
    "4. What are the most common products that complaints are recieved for?\n",
    "4. How does the complaint volume compare from year to year?  \n",
    "5. Given that these top 25 depository institution's total assets are wide ranging, does an adjustment to asset size reveal that some companies have more complaints per $100 billion in total assets?  \n",
    "    - Total asset size can be found at the CFPB's web page for \"Institutions subject to CFPB supervisory authority\" located [here](https://www.consumerfinance.gov/policy-compliance/guidance/supervision-examinations/institutions/).\n",
    "    \n",
    "[Back to Top](#top)"
   ]
  },
  {
   "cell_type": "markdown",
   "metadata": {},
   "source": [
    "***\n",
    "<a name=\"data_understanding\"></a>\n",
    "## Data Understanding\n",
    "The primary resource used for this analysis into the business questions noted above in the [Business Understanding](#business_understanding) section will be the CFPB's Consumer Complaint Database dataset located [here](https://www.consumerfinance.gov/data-research/consumer-complaints/):\n",
    "\n",
    "- [complaints.csv](#complaints) - A collection of complaints about consumer financial products and services that were sent to companies for response.\n",
    "\n",
    "Per the CFPB Consumer Complaint Database page:\n",
    "\n",
    "> **What you should consider when using the data**  \n",
    "> This database is not a statistical sample of consumers’ experiences in the marketplace. Complaints are not necessarily representative of all consumers’ experiences and complaints do not constitute “information” for purposes of the Information Quality Act.\n",
    ">\n",
    "> Complaint volume should be considered in the context of company size and/or market share. For example, companies with more customers may have more complaints than companies with fewer customers. We encourage you to pair complaint data with public and private data sets for additional context.\n",
    ">\n",
    ">The Bureau publishes the consumer’s narrative description of his or her experience if the consumer opts to share it publicly and after the Bureau takes steps to remove personal information. We don’t verify all the allegations in complaint narratives. Unproven allegations in consumer narratives should be regarded as opinion, not fact. We do not adopt the views expressed and make no representation that consumers’ allegations are accurate, clear, complete, or unbiased in substance or presentation. Users should consider what conclusions may be fairly drawn from complaints alone.\n",
    "\n",
    "And...\n",
    "\n",
    "> **How we use complaint data**  \n",
    "Complaints can give us insights into problems people are experiencing in the marketplace and help us regulate consumer financial products and services under existing federal consumer financial laws, enforce those laws judiciously, and educate and empower consumers to make informed financial decisions. We also report on complaint trends annually in Consumer Response’s Annual Report to Congress.\n",
    "\n",
    "[Back to Top](#top)"
   ]
  },
  {
   "cell_type": "code",
   "execution_count": 1,
   "metadata": {},
   "outputs": [],
   "source": [
    "import os\n",
    "import numpy as np\n",
    "import pandas as pd\n",
    "import matplotlib.pyplot as plt\n",
    "from zipfile import ZipFile\n",
    "\n",
    "# Used for plotting\n",
    "%matplotlib inline\n",
    "import matplotlib as mpl\n",
    "import matplotlib.pyplot as plt\n",
    "\n",
    "import seaborn as sns\n",
    "\n",
    "# Filter to ignore math related warnings\n",
    "import warnings\n",
    "warnings.filterwarnings(action=\"ignore\", message=\"^internal gelsd\")"
   ]
  },
  {
   "cell_type": "markdown",
   "metadata": {},
   "source": [
    "***\n",
    "<a name=\"complaints\"></a>\n",
    "### Exploring complaints.csv\n",
    "Initial load of the complaints.csv file in order to learn what data has been provided by the CFPB.\n",
    "\n",
    "[Back to Top](#top)"
   ]
  },
  {
   "cell_type": "code",
   "execution_count": 2,
   "metadata": {},
   "outputs": [],
   "source": [
    "complaints = pd.read_csv('C:/Users/Leone/Desktop/CFPB/complaints.csv')"
   ]
  },
  {
   "cell_type": "code",
   "execution_count": 3,
   "metadata": {
    "scrolled": true
   },
   "outputs": [
    {
     "name": "stdout",
     "output_type": "stream",
     "text": [
      "<class 'pandas.core.frame.DataFrame'>\n",
      "RangeIndex: 1785978 entries, 0 to 1785977\n",
      "Data columns (total 18 columns):\n",
      " #   Column                        Dtype \n",
      "---  ------                        ----- \n",
      " 0   Date received                 object\n",
      " 1   Product                       object\n",
      " 2   Sub-product                   object\n",
      " 3   Issue                         object\n",
      " 4   Sub-issue                     object\n",
      " 5   Consumer complaint narrative  object\n",
      " 6   Company public response       object\n",
      " 7   Company                       object\n",
      " 8   State                         object\n",
      " 9   ZIP code                      object\n",
      " 10  Tags                          object\n",
      " 11  Consumer consent provided?    object\n",
      " 12  Submitted via                 object\n",
      " 13  Date sent to company          object\n",
      " 14  Company response to consumer  object\n",
      " 15  Timely response?              object\n",
      " 16  Consumer disputed?            object\n",
      " 17  Complaint ID                  int64 \n",
      "dtypes: int64(1), object(17)\n",
      "memory usage: 245.3+ MB\n"
     ]
    }
   ],
   "source": [
    "complaints.info()"
   ]
  },
  {
   "cell_type": "markdown",
   "metadata": {},
   "source": [
    "Our data source (complaints.csv) is comprised of over 1.78 million complaints with 18 columns of data for each comaplaint.\n",
    "\n",
    "Of note, all of the data except the Complaint ID column have been read in as text (object). Looking through the column titles above, it does not appear that we will be working with any quantitative data."
   ]
  },
  {
   "cell_type": "code",
   "execution_count": 4,
   "metadata": {},
   "outputs": [],
   "source": [
    "# Cleaning up the column names to make them easier to manage going forward\n",
    "complaints.columns = complaints.columns.str.replace(' ', '_')"
   ]
  },
  {
   "cell_type": "code",
   "execution_count": 5,
   "metadata": {
    "scrolled": false
   },
   "outputs": [
    {
     "data": {
      "text/html": [
       "<div>\n",
       "<style scoped>\n",
       "    .dataframe tbody tr th:only-of-type {\n",
       "        vertical-align: middle;\n",
       "    }\n",
       "\n",
       "    .dataframe tbody tr th {\n",
       "        vertical-align: top;\n",
       "    }\n",
       "\n",
       "    .dataframe thead th {\n",
       "        text-align: right;\n",
       "    }\n",
       "</style>\n",
       "<table border=\"1\" class=\"dataframe\">\n",
       "  <thead>\n",
       "    <tr style=\"text-align: right;\">\n",
       "      <th></th>\n",
       "      <th>Date_received</th>\n",
       "      <th>Product</th>\n",
       "      <th>Sub-product</th>\n",
       "      <th>Issue</th>\n",
       "      <th>Sub-issue</th>\n",
       "      <th>Consumer_complaint_narrative</th>\n",
       "      <th>Company_public_response</th>\n",
       "      <th>Company</th>\n",
       "      <th>State</th>\n",
       "      <th>ZIP_code</th>\n",
       "      <th>Tags</th>\n",
       "      <th>Consumer_consent_provided?</th>\n",
       "      <th>Submitted_via</th>\n",
       "      <th>Date_sent_to_company</th>\n",
       "      <th>Company_response_to_consumer</th>\n",
       "      <th>Timely_response?</th>\n",
       "      <th>Consumer_disputed?</th>\n",
       "      <th>Complaint_ID</th>\n",
       "    </tr>\n",
       "  </thead>\n",
       "  <tbody>\n",
       "    <tr>\n",
       "      <th>0</th>\n",
       "      <td>2019-09-24</td>\n",
       "      <td>Debt collection</td>\n",
       "      <td>I do not know</td>\n",
       "      <td>Attempts to collect debt not owed</td>\n",
       "      <td>Debt is not yours</td>\n",
       "      <td>transworld systems inc. \\nis trying to collect...</td>\n",
       "      <td>NaN</td>\n",
       "      <td>TRANSWORLD SYSTEMS INC</td>\n",
       "      <td>FL</td>\n",
       "      <td>335XX</td>\n",
       "      <td>NaN</td>\n",
       "      <td>Consent provided</td>\n",
       "      <td>Web</td>\n",
       "      <td>2019-09-24</td>\n",
       "      <td>Closed with explanation</td>\n",
       "      <td>Yes</td>\n",
       "      <td>NaN</td>\n",
       "      <td>3384392</td>\n",
       "    </tr>\n",
       "    <tr>\n",
       "      <th>1</th>\n",
       "      <td>2019-09-19</td>\n",
       "      <td>Credit reporting, credit repair services, or o...</td>\n",
       "      <td>Credit reporting</td>\n",
       "      <td>Incorrect information on your report</td>\n",
       "      <td>Information belongs to someone else</td>\n",
       "      <td>NaN</td>\n",
       "      <td>Company has responded to the consumer and the ...</td>\n",
       "      <td>Experian Information Solutions Inc.</td>\n",
       "      <td>PA</td>\n",
       "      <td>15206</td>\n",
       "      <td>NaN</td>\n",
       "      <td>Consent not provided</td>\n",
       "      <td>Web</td>\n",
       "      <td>2019-09-20</td>\n",
       "      <td>Closed with non-monetary relief</td>\n",
       "      <td>Yes</td>\n",
       "      <td>NaN</td>\n",
       "      <td>3379500</td>\n",
       "    </tr>\n",
       "    <tr>\n",
       "      <th>2</th>\n",
       "      <td>2019-11-08</td>\n",
       "      <td>Debt collection</td>\n",
       "      <td>I do not know</td>\n",
       "      <td>Communication tactics</td>\n",
       "      <td>Frequent or repeated calls</td>\n",
       "      <td>Over the past 2 weeks, I have been receiving e...</td>\n",
       "      <td>NaN</td>\n",
       "      <td>Diversified Consultants, Inc.</td>\n",
       "      <td>NC</td>\n",
       "      <td>275XX</td>\n",
       "      <td>NaN</td>\n",
       "      <td>Consent provided</td>\n",
       "      <td>Web</td>\n",
       "      <td>2019-11-08</td>\n",
       "      <td>Closed with explanation</td>\n",
       "      <td>Yes</td>\n",
       "      <td>NaN</td>\n",
       "      <td>3433198</td>\n",
       "    </tr>\n",
       "    <tr>\n",
       "      <th>3</th>\n",
       "      <td>2020-10-06</td>\n",
       "      <td>Debt collection</td>\n",
       "      <td>I do not know</td>\n",
       "      <td>Written notification about debt</td>\n",
       "      <td>Didn't receive notice of right to dispute</td>\n",
       "      <td>NaN</td>\n",
       "      <td>NaN</td>\n",
       "      <td>TRANSUNION INTERMEDIATE HOLDINGS, INC.</td>\n",
       "      <td>MN</td>\n",
       "      <td>55409</td>\n",
       "      <td>NaN</td>\n",
       "      <td>Other</td>\n",
       "      <td>Web</td>\n",
       "      <td>2020-10-06</td>\n",
       "      <td>In progress</td>\n",
       "      <td>Yes</td>\n",
       "      <td>NaN</td>\n",
       "      <td>3884133</td>\n",
       "    </tr>\n",
       "    <tr>\n",
       "      <th>4</th>\n",
       "      <td>2020-09-24</td>\n",
       "      <td>Debt collection</td>\n",
       "      <td>Auto debt</td>\n",
       "      <td>Attempts to collect debt not owed</td>\n",
       "      <td>Debt was paid</td>\n",
       "      <td>NaN</td>\n",
       "      <td>NaN</td>\n",
       "      <td>Radius Global Solutions LLC</td>\n",
       "      <td>LA</td>\n",
       "      <td>70433</td>\n",
       "      <td>NaN</td>\n",
       "      <td>NaN</td>\n",
       "      <td>Web</td>\n",
       "      <td>2020-09-24</td>\n",
       "      <td>In progress</td>\n",
       "      <td>Yes</td>\n",
       "      <td>NaN</td>\n",
       "      <td>3863015</td>\n",
       "    </tr>\n",
       "  </tbody>\n",
       "</table>\n",
       "</div>"
      ],
      "text/plain": [
       "  Date_received                                            Product  \\\n",
       "0    2019-09-24                                    Debt collection   \n",
       "1    2019-09-19  Credit reporting, credit repair services, or o...   \n",
       "2    2019-11-08                                    Debt collection   \n",
       "3    2020-10-06                                    Debt collection   \n",
       "4    2020-09-24                                    Debt collection   \n",
       "\n",
       "        Sub-product                                 Issue  \\\n",
       "0     I do not know     Attempts to collect debt not owed   \n",
       "1  Credit reporting  Incorrect information on your report   \n",
       "2     I do not know                 Communication tactics   \n",
       "3     I do not know       Written notification about debt   \n",
       "4         Auto debt     Attempts to collect debt not owed   \n",
       "\n",
       "                                   Sub-issue  \\\n",
       "0                          Debt is not yours   \n",
       "1        Information belongs to someone else   \n",
       "2                 Frequent or repeated calls   \n",
       "3  Didn't receive notice of right to dispute   \n",
       "4                              Debt was paid   \n",
       "\n",
       "                        Consumer_complaint_narrative  \\\n",
       "0  transworld systems inc. \\nis trying to collect...   \n",
       "1                                                NaN   \n",
       "2  Over the past 2 weeks, I have been receiving e...   \n",
       "3                                                NaN   \n",
       "4                                                NaN   \n",
       "\n",
       "                             Company_public_response  \\\n",
       "0                                                NaN   \n",
       "1  Company has responded to the consumer and the ...   \n",
       "2                                                NaN   \n",
       "3                                                NaN   \n",
       "4                                                NaN   \n",
       "\n",
       "                                  Company State ZIP_code Tags  \\\n",
       "0                  TRANSWORLD SYSTEMS INC    FL    335XX  NaN   \n",
       "1     Experian Information Solutions Inc.    PA    15206  NaN   \n",
       "2           Diversified Consultants, Inc.    NC    275XX  NaN   \n",
       "3  TRANSUNION INTERMEDIATE HOLDINGS, INC.    MN    55409  NaN   \n",
       "4             Radius Global Solutions LLC    LA    70433  NaN   \n",
       "\n",
       "  Consumer_consent_provided? Submitted_via Date_sent_to_company  \\\n",
       "0           Consent provided           Web           2019-09-24   \n",
       "1       Consent not provided           Web           2019-09-20   \n",
       "2           Consent provided           Web           2019-11-08   \n",
       "3                      Other           Web           2020-10-06   \n",
       "4                        NaN           Web           2020-09-24   \n",
       "\n",
       "      Company_response_to_consumer Timely_response? Consumer_disputed?  \\\n",
       "0          Closed with explanation              Yes                NaN   \n",
       "1  Closed with non-monetary relief              Yes                NaN   \n",
       "2          Closed with explanation              Yes                NaN   \n",
       "3                      In progress              Yes                NaN   \n",
       "4                      In progress              Yes                NaN   \n",
       "\n",
       "   Complaint_ID  \n",
       "0       3384392  \n",
       "1       3379500  \n",
       "2       3433198  \n",
       "3       3884133  \n",
       "4       3863015  "
      ]
     },
     "execution_count": 5,
     "metadata": {},
     "output_type": "execute_result"
    }
   ],
   "source": [
    "complaints.head()"
   ]
  },
  {
   "cell_type": "markdown",
   "metadata": {
    "collapsed": true
   },
   "source": [
    "Looking at the data so far, it appears that this is mostly categorical data with a few dates. The 'Consumer_complaint_narrative' and 'Company_public_response' columns are comprised of sentences and may not be useful for the business questions outlined above."
   ]
  },
  {
   "cell_type": "code",
   "execution_count": 6,
   "metadata": {},
   "outputs": [
    {
     "data": {
      "text/plain": [
       "6490718"
      ]
     },
     "execution_count": 6,
     "metadata": {},
     "output_type": "execute_result"
    }
   ],
   "source": [
    "# Checking for NaN values in the data\n",
    "complaints.isnull().sum().sum()"
   ]
  },
  {
   "cell_type": "markdown",
   "metadata": {},
   "source": [
    "There are over 6.47 million missing values."
   ]
  },
  {
   "cell_type": "code",
   "execution_count": 7,
   "metadata": {},
   "outputs": [
    {
     "name": "stdout",
     "output_type": "stream",
     "text": [
      "Date_received                         0\n",
      "Product                               0\n",
      "Sub-product                      235165\n",
      "Issue                                 1\n",
      "Sub-issue                        585674\n",
      "Consumer_complaint_narrative    1178723\n",
      "Company_public_response         1062126\n",
      "Company                               0\n",
      "State                             33731\n",
      "ZIP_code                         170756\n",
      "Tags                            1549589\n",
      "Consumer_consent_provided?       657449\n",
      "Submitted_via                         0\n",
      "Date_sent_to_company                  0\n",
      "Company_response_to_consumer          2\n",
      "Timely_response?                      0\n",
      "Consumer_disputed?              1017502\n",
      "Complaint_ID                          0\n",
      "dtype: int64\n"
     ]
    }
   ],
   "source": [
    "count_nan = complaints.isnull().sum()\n",
    "print (count_nan)"
   ]
  },
  {
   "cell_type": "markdown",
   "metadata": {},
   "source": [
    "There are 7 columns with no missing values. We will explore these first and then move to the columns with missing values next."
   ]
  },
  {
   "cell_type": "markdown",
   "metadata": {},
   "source": [
    "***\n",
    "**Columns With No NaN Values**  \n",
    "\n",
    "Exploring the data contained in the columns with no NaN values first. Columns with NaN values will be evaluated later in order to group together the actions taken to handle the NaN values for each respective column.\n",
    "\n",
    "Columns to be reviewed:\n",
    "\n",
    "'Date_received'  \n",
    "'Product'  \n",
    "'Company'  \n",
    "'Submitted_via'  \n",
    "'Date_sent_to_company'  \n",
    "'Timely_response?'  \n",
    "'Complaint_ID'  "
   ]
  },
  {
   "cell_type": "code",
   "execution_count": 8,
   "metadata": {},
   "outputs": [
    {
     "data": {
      "text/plain": [
       "1785978"
      ]
     },
     "execution_count": 8,
     "metadata": {},
     "output_type": "execute_result"
    }
   ],
   "source": [
    "# Are there any duplicates in the 'Complaint ID' field?\n",
    "complaints.Complaint_ID.nunique()"
   ]
  },
  {
   "cell_type": "code",
   "execution_count": 9,
   "metadata": {},
   "outputs": [
    {
     "data": {
      "text/plain": [
       "(1785978, 18)"
      ]
     },
     "execution_count": 9,
     "metadata": {},
     "output_type": "execute_result"
    }
   ],
   "source": [
    "complaints.shape"
   ]
  },
  {
   "cell_type": "markdown",
   "metadata": {},
   "source": [
    "All values in the Complaint_ID column are unique."
   ]
  },
  {
   "cell_type": "code",
   "execution_count": 10,
   "metadata": {},
   "outputs": [
    {
     "data": {
      "text/plain": [
       "0    2019-09-24\n",
       "1    2019-09-19\n",
       "2    2019-11-08\n",
       "3    2020-10-06\n",
       "4    2020-09-24\n",
       "Name: Date_received, dtype: object"
      ]
     },
     "execution_count": 10,
     "metadata": {},
     "output_type": "execute_result"
    }
   ],
   "source": [
    "# Exploring the Date_received column\n",
    "complaints['Date_received'].head()"
   ]
  },
  {
   "cell_type": "markdown",
   "metadata": {},
   "source": [
    "This is a date field but the dtype is object. This needs to be converted into a usable date format.\n",
    "\n",
    "'Date_sent_to_company' is also a date field and I will convert it to date format at this time as well."
   ]
  },
  {
   "cell_type": "code",
   "execution_count": 11,
   "metadata": {},
   "outputs": [
    {
     "name": "stdout",
     "output_type": "stream",
     "text": [
      "<class 'pandas.core.frame.DataFrame'>\n",
      "RangeIndex: 1785978 entries, 0 to 1785977\n",
      "Data columns (total 2 columns):\n",
      " #   Column                Dtype         \n",
      "---  ------                -----         \n",
      " 0   Date_received         datetime64[ns]\n",
      " 1   Date_sent_to_company  datetime64[ns]\n",
      "dtypes: datetime64[ns](2)\n",
      "memory usage: 27.3 MB\n"
     ]
    }
   ],
   "source": [
    "# Converting the 'Date_received' and 'Date_sent_to_company' columns to datetime dtype\n",
    "\n",
    "complaints[['Date_received', 'Date_sent_to_company']] = complaints[['Date_received', 'Date_sent_to_company']].apply(pd.to_datetime)\n",
    "\n",
    "complaints[['Date_received', 'Date_sent_to_company']].info()"
   ]
  },
  {
   "cell_type": "code",
   "execution_count": 12,
   "metadata": {},
   "outputs": [
    {
     "data": {
      "text/html": [
       "<div>\n",
       "<style scoped>\n",
       "    .dataframe tbody tr th:only-of-type {\n",
       "        vertical-align: middle;\n",
       "    }\n",
       "\n",
       "    .dataframe tbody tr th {\n",
       "        vertical-align: top;\n",
       "    }\n",
       "\n",
       "    .dataframe thead th {\n",
       "        text-align: right;\n",
       "    }\n",
       "</style>\n",
       "<table border=\"1\" class=\"dataframe\">\n",
       "  <thead>\n",
       "    <tr style=\"text-align: right;\">\n",
       "      <th></th>\n",
       "      <th>Date_received</th>\n",
       "      <th>Date_sent_to_company</th>\n",
       "    </tr>\n",
       "  </thead>\n",
       "  <tbody>\n",
       "    <tr>\n",
       "      <th>0</th>\n",
       "      <td>2019-09-24</td>\n",
       "      <td>2019-09-24</td>\n",
       "    </tr>\n",
       "    <tr>\n",
       "      <th>1</th>\n",
       "      <td>2019-09-19</td>\n",
       "      <td>2019-09-20</td>\n",
       "    </tr>\n",
       "    <tr>\n",
       "      <th>2</th>\n",
       "      <td>2019-11-08</td>\n",
       "      <td>2019-11-08</td>\n",
       "    </tr>\n",
       "    <tr>\n",
       "      <th>3</th>\n",
       "      <td>2020-10-06</td>\n",
       "      <td>2020-10-06</td>\n",
       "    </tr>\n",
       "    <tr>\n",
       "      <th>4</th>\n",
       "      <td>2020-09-24</td>\n",
       "      <td>2020-09-24</td>\n",
       "    </tr>\n",
       "  </tbody>\n",
       "</table>\n",
       "</div>"
      ],
      "text/plain": [
       "  Date_received Date_sent_to_company\n",
       "0    2019-09-24           2019-09-24\n",
       "1    2019-09-19           2019-09-20\n",
       "2    2019-11-08           2019-11-08\n",
       "3    2020-10-06           2020-10-06\n",
       "4    2020-09-24           2020-09-24"
      ]
     },
     "execution_count": 12,
     "metadata": {},
     "output_type": "execute_result"
    }
   ],
   "source": [
    "complaints[['Date_received', 'Date_sent_to_company']].head()"
   ]
  },
  {
   "cell_type": "markdown",
   "metadata": {},
   "source": [
    "The dates are now good."
   ]
  },
  {
   "cell_type": "code",
   "execution_count": 13,
   "metadata": {},
   "outputs": [
    {
     "data": {
      "text/plain": [
       "Timestamp('2011-12-01 00:00:00')"
      ]
     },
     "execution_count": 13,
     "metadata": {},
     "output_type": "execute_result"
    }
   ],
   "source": [
    "# Finding the min and max dates in the 'Date_received' column to determine the full date range of this data\n",
    "complaints['Date_received'].min()"
   ]
  },
  {
   "cell_type": "code",
   "execution_count": 14,
   "metadata": {},
   "outputs": [
    {
     "data": {
      "text/plain": [
       "Timestamp('2020-10-07 00:00:00')"
      ]
     },
     "execution_count": 14,
     "metadata": {},
     "output_type": "execute_result"
    }
   ],
   "source": [
    "complaints['Date_received'].max()"
   ]
  },
  {
   "cell_type": "code",
   "execution_count": 15,
   "metadata": {},
   "outputs": [
    {
     "data": {
      "text/plain": [
       "Timestamp('2011-12-01 00:00:00')"
      ]
     },
     "execution_count": 15,
     "metadata": {},
     "output_type": "execute_result"
    }
   ],
   "source": [
    "# Finding the min and max dates in the 'Date_sent_to_company' column to determine the full date range of this data\n",
    "complaints['Date_sent_to_company'].min()"
   ]
  },
  {
   "cell_type": "code",
   "execution_count": 16,
   "metadata": {},
   "outputs": [
    {
     "data": {
      "text/plain": [
       "Timestamp('2020-10-07 00:00:00')"
      ]
     },
     "execution_count": 16,
     "metadata": {},
     "output_type": "execute_result"
    }
   ],
   "source": [
    "# Finding the min and max dates in the 'Date_sent_to_company' column to determine the full date range of this data\n",
    "complaints['Date_sent_to_company'].max()"
   ]
  },
  {
   "cell_type": "markdown",
   "metadata": {},
   "source": [
    "The range for both the 'Date_received' and 'Date_sent_to_company' columns is 12/01/11 through 10/02/20."
   ]
  },
  {
   "cell_type": "code",
   "execution_count": 17,
   "metadata": {
    "scrolled": true
   },
   "outputs": [
    {
     "data": {
      "text/plain": [
       "Credit reporting, credit repair services, or other personal consumer reports    517219\n",
       "Debt collection                                                                 315218\n",
       "Mortgage                                                                        311477\n",
       "Credit reporting                                                                140432\n",
       "Credit card or prepaid card                                                      90642\n",
       "Credit card                                                                      89190\n",
       "Bank account or service                                                          86206\n",
       "Checking or savings account                                                      73720\n",
       "Student loan                                                                     59370\n",
       "Consumer Loan                                                                    31604\n",
       "Vehicle loan or lease                                                            20104\n",
       "Money transfer, virtual currency, or money service                               20079\n",
       "Payday loan, title loan, or personal loan                                        14924\n",
       "Payday loan                                                                       5543\n",
       "Money transfers                                                                   5354\n",
       "Prepaid card                                                                      3819\n",
       "Other financial service                                                           1059\n",
       "Virtual currency                                                                    18\n",
       "Name: Product, dtype: int64"
      ]
     },
     "execution_count": 17,
     "metadata": {},
     "output_type": "execute_result"
    }
   ],
   "source": [
    "# Exploring the 'Product' column\n",
    "complaints['Product'].value_counts()"
   ]
  },
  {
   "cell_type": "markdown",
   "metadata": {},
   "source": [
    "The 'Product' column contains 18 unique values."
   ]
  },
  {
   "cell_type": "code",
   "execution_count": 18,
   "metadata": {},
   "outputs": [
    {
     "data": {
      "text/plain": [
       "EQUIFAX, INC.                             198734\n",
       "Experian Information Solutions Inc.       190038\n",
       "TRANSUNION INTERMEDIATE HOLDINGS, INC.    183234\n",
       "BANK OF AMERICA, NATIONAL ASSOCIATION      94181\n",
       "WELLS FARGO & COMPANY                      81376\n",
       "                                           ...  \n",
       "Midstate Finance Company, Inc.                 1\n",
       "Romain Automotive, LLC                         1\n",
       "CRE Credit Services                            1\n",
       "Lawyers Title of Cincinnati, Inc.              1\n",
       "Westpark Equity Group, Inc.                    1\n",
       "Name: Company, Length: 5760, dtype: int64"
      ]
     },
     "execution_count": 18,
     "metadata": {},
     "output_type": "execute_result"
    }
   ],
   "source": [
    "# Exploring the 'Company' column\n",
    "complaints['Company'].value_counts()"
   ]
  },
  {
   "cell_type": "markdown",
   "metadata": {},
   "source": [
    "There are 5757 unique companies in this data set.\n",
    "\n",
    "This is concerning given that as of the latest listing from the CFPB, there are only 153 Depository Institutions plus an additional 22 CFPB Depository Affilliates regulated by the CFPB.\n",
    "\n",
    "I will export this list out so I can explore what the differences are compared to the 175 depository companies currently regulated by the CFPB."
   ]
  },
  {
   "cell_type": "code",
   "execution_count": 19,
   "metadata": {},
   "outputs": [],
   "source": [
    "# Creating new df with unique values in the 'Company' column\n",
    "# companies_list = complaints['Company'].unique()\n",
    "# companies_df = pd.DataFrame({'Company': companies_list})\n",
    "# companies_df.shape"
   ]
  },
  {
   "cell_type": "code",
   "execution_count": 20,
   "metadata": {},
   "outputs": [],
   "source": [
    "# Exporting dataframe to Excel\n",
    "# companies_df.to_excel('companies_list.xlsx')"
   ]
  },
  {
   "cell_type": "markdown",
   "metadata": {},
   "source": [
    "After using Excel for an in-depth manual review of the list of 5757 unique companies represented in the CFPB Consumer Complaint Database, it is apparent that there are many more companies represented in the DB than the official depository institutions that the CFPB lists as \"institutions subject to CFPB supervisory authority.\" In addition to depository institutions, the DB contains complaints filed for companies ranging from payday lenders, to mortgage lenders, to law firms.\n",
    "\n",
    "For the purposes of this data analysis, we will focus on the top 25 depository institutions, by total assets, represented on the CFPB's list of Depository Institutions subject to CFPB supervisory authority located [here](https://www.consumerfinance.gov/policy-compliance/guidance/supervision-examinations/institutions/).\n",
    "\n",
    "The top 25 depository institutions by total assets are:\n",
    "\n",
    "| **CFPB Depository List Company Name** | **DB Company Name** | **Total Assets** |\n",
    "| :---: | :---: | ---: |\n",
    "| JPMORGAN CHASE BANK, NATIONAL ASSOCIATION | JPMORGAN CHASE & CO. | &#0036;2,690,959,000,000 |\n",
    "| BANK OF AMERICA, NATIONAL ASSOCIATION | BANK OF AMERICA, NATIONAL ASSOCIATION | &#0036;2,031,940,000,000 |\n",
    "| WELLS FARGO BANK, NATIONAL ASSOCIATION | WELLS FARGO & COMPANY | &#0036;1,763,696,000,000 |\n",
    "| CITIBANK, N.A. | CITIBANK, N.A. | &#0036;1,632,405,000,000 |\n",
    "| U.S. BANK NATIONAL ASSOCIATION | U.S. BANCORP | &#0036;533,129,091,000 |\n",
    "| TRUIST BANK | TRUIST FINANCIAL CORPORATION, SUNTRUST BANKS, INC., BB&T CORPORATION | &#0036;495,079,000,000 |\n",
    "| PNC BANK, NATIONAL ASSOCIATION | PNC Bank N.A. | &#0036;433,803,038,000 |\n",
    "| BANK OF NEW YORK MELLON, THE | BANK OF NEW YORK MELLON CORPORATION, THE | &#0036;387,037,000,000 |\n",
    "| STATE STREET BANK AND TRUST COMPANY | STATE STREET BANK AND TRUST COMPANY | &#0036;359,196,000,000 |\n",
    "| TD BANK, N.A. | TD BANK US HOLDING COMPANY | &#0036;355,767,822,000 |\n",
    "| CAPITAL ONE, NATIONAL ASSOCIATION | CAPITAL ONE FINANCIAL CORPORATION | &#0036;339,215,513,000 |\n",
    "| CHARLES SCHWAB BANK, SSB | CHARLES SCHWAB CORPORATION, THE | &#0036;270,245,000,000 |\n",
    "| GOLDMAN SACHS BANK USA | GOLDMAN SACHS BANK USA | &#0036;254,668,000,000 |\n",
    "| HSBC BANK USA, NATIONAL ASSOCIATION | HSBC NORTH AMERICA HOLDINGS INC. | &#0036;201,885,682,000 |\n",
    "| FIFTH THIRD BANK, NATIONAL ASSOCIATION | FIFTH THIRD FINANCIAL CORPORATION | &#0036;183,723,698,000 |\n",
    "| MORGAN STANLEY BANK, N.A. | MORGAN STANLEY & CO. LLC | &#0036;178,664,000,000 |\n",
    "| CITIZENS BANK, NATIONAL ASSOCIATION | CITIZENS FINANCIAL GROUP, INC. | &#0036;176,632,580,000 |\n",
    "| ALLY BANK | ALLY FINANCIAL INC. | &#0036;170,655,000,000 |\n",
    "| NORTHERN TRUST COMPANY, THE | Northern Trust Company, The | &#0036;161,163,529,000 |\n",
    "| KEYBANK NATIONAL ASSOCIATION | KEYCORP | &#0036;154,993,507,000 |\n",
    "| BMO HARRIS BANK NATIONAL ASSOCIATION | BMO HARRIS BANK NATIONAL ASSOCIATION | &#0036;145,168,865,000 |\n",
    "| MUFG UNION BANK, NATIONAL ASSOCIATION | MUFG UNION BANK, NATIONAL ASSOCIATION | &#0036;135,037,826,000 |\n",
    "| REGIONS BANK | REGIONS FINANCIAL CORPORATION | &#0036;132,707,000,000 |\n",
    "| AMERICAN EXPRESS NATIONAL BANK | AMERICAN EXPRESS COMPANY | &#0036;130,004,248,000 |\n",
    "| NAVY FEDERAL CREDIT UNION | NAVY FEDERAL CREDIT UNION | &#0036;125,580,859,000 |"
   ]
  },
  {
   "cell_type": "code",
   "execution_count": 21,
   "metadata": {
    "scrolled": true
   },
   "outputs": [
    {
     "data": {
      "text/plain": [
       "BANK OF AMERICA, NATIONAL ASSOCIATION       94181\n",
       "WELLS FARGO & COMPANY                       81376\n",
       "JPMORGAN CHASE & CO.                        72458\n",
       "CITIBANK, N.A.                              60243\n",
       "CAPITAL ONE FINANCIAL CORPORATION           47136\n",
       "U.S. BANCORP                                21602\n",
       "AMERICAN EXPRESS COMPANY                    18054\n",
       "PNC Bank N.A.                               16515\n",
       "TD BANK US HOLDING COMPANY                  12745\n",
       "HSBC NORTH AMERICA HOLDINGS INC.             9769\n",
       "SUNTRUST BANKS, INC.                         9643\n",
       "ALLY FINANCIAL INC.                          7458\n",
       "CITIZENS FINANCIAL GROUP, INC.               7258\n",
       "FIFTH THIRD FINANCIAL CORPORATION            6704\n",
       "NAVY FEDERAL CREDIT UNION                    6520\n",
       "BB&T CORPORATION                             5524\n",
       "REGIONS FINANCIAL CORPORATION                4780\n",
       "KEYCORP                                      4052\n",
       "BMO HARRIS BANK NATIONAL ASSOCIATION         1835\n",
       "TRUIST FINANCIAL CORPORATION                 1147\n",
       "MUFG UNION BANK, NATIONAL ASSOCIATION         909\n",
       "GOLDMAN SACHS BANK USA                        838\n",
       "MORGAN STANLEY & CO. LLC                      349\n",
       "CHARLES SCHWAB CORPORATION, THE               344\n",
       "BANK OF NEW YORK MELLON CORPORATION, THE      333\n",
       "Northern Trust Company, The                    98\n",
       "STATE STREET BANK AND TRUST COMPANY            25\n",
       "Name: Company, dtype: int64"
      ]
     },
     "execution_count": 21,
     "metadata": {},
     "output_type": "execute_result"
    }
   ],
   "source": [
    "# Keeping only the top 25 depository institutions based on total assets\n",
    "\n",
    "company_keep = ['JPMORGAN CHASE & CO.', 'BANK OF AMERICA, NATIONAL ASSOCIATION', 'WELLS FARGO & COMPANY', 'CITIBANK, N.A.', \n",
    "             'U.S. BANCORP', 'TRUIST FINANCIAL CORPORATION', 'SUNTRUST BANKS, INC.', 'BB&T CORPORATION', 'PNC Bank N.A.', \n",
    "             'BANK OF NEW YORK MELLON CORPORATION, THE', 'STATE STREET BANK AND TRUST COMPANY', 'TD BANK US HOLDING COMPANY', \n",
    "             'CAPITAL ONE FINANCIAL CORPORATION', 'CHARLES SCHWAB CORPORATION, THE', 'GOLDMAN SACHS BANK USA', \n",
    "             'HSBC NORTH AMERICA HOLDINGS INC.', 'FIFTH THIRD FINANCIAL CORPORATION', 'MORGAN STANLEY & CO. LLC', \n",
    "             'CITIZENS FINANCIAL GROUP, INC.', 'ALLY FINANCIAL INC.', 'Northern Trust Company, The', 'KEYCORP', \n",
    "             'BMO HARRIS BANK NATIONAL ASSOCIATION', 'MUFG UNION BANK, NATIONAL ASSOCIATION', 'REGIONS FINANCIAL CORPORATION',\n",
    "             'AMERICAN EXPRESS COMPANY', 'NAVY FEDERAL CREDIT UNION']\n",
    "\n",
    "complaints_top25 = complaints[complaints['Company'].isin(company_keep)].copy()\n",
    "complaints_top25['Company'].value_counts()"
   ]
  },
  {
   "cell_type": "code",
   "execution_count": 22,
   "metadata": {
    "scrolled": true
   },
   "outputs": [
    {
     "data": {
      "text/plain": [
       "(491896, 18)"
      ]
     },
     "execution_count": 22,
     "metadata": {},
     "output_type": "execute_result"
    }
   ],
   "source": [
    "complaints_top25.shape"
   ]
  },
  {
   "cell_type": "markdown",
   "metadata": {},
   "source": [
    "Our list looks correct so far and we now have 491,075 complaints that are attributed to the top 27 depository instituitions that are subject to CFPB supervisory authority.\n",
    "\n",
    "We still need to handle the 2019 merger of BB&T CORPORATION and SUNTRUST BANKS, INC. into TRUIST FINANCIAL CORPORATION. To do this, we will update all complaints for BB&T CORPORATION and SUNTRUST BANKS, INC. to now be TRUIST FINANCIAL CORPORATION."
   ]
  },
  {
   "cell_type": "code",
   "execution_count": 23,
   "metadata": {},
   "outputs": [
    {
     "data": {
      "text/plain": [
       "BANK OF AMERICA, NATIONAL ASSOCIATION       94181\n",
       "WELLS FARGO & COMPANY                       81376\n",
       "JPMORGAN CHASE & CO.                        72458\n",
       "CITIBANK, N.A.                              60243\n",
       "CAPITAL ONE FINANCIAL CORPORATION           47136\n",
       "U.S. BANCORP                                21602\n",
       "AMERICAN EXPRESS COMPANY                    18054\n",
       "PNC Bank N.A.                               16515\n",
       "TRUIST FINANCIAL CORPORATION                16314\n",
       "TD BANK US HOLDING COMPANY                  12745\n",
       "HSBC NORTH AMERICA HOLDINGS INC.             9769\n",
       "ALLY FINANCIAL INC.                          7458\n",
       "CITIZENS FINANCIAL GROUP, INC.               7258\n",
       "FIFTH THIRD FINANCIAL CORPORATION            6704\n",
       "NAVY FEDERAL CREDIT UNION                    6520\n",
       "REGIONS FINANCIAL CORPORATION                4780\n",
       "KEYCORP                                      4052\n",
       "BMO HARRIS BANK NATIONAL ASSOCIATION         1835\n",
       "MUFG UNION BANK, NATIONAL ASSOCIATION         909\n",
       "GOLDMAN SACHS BANK USA                        838\n",
       "MORGAN STANLEY & CO. LLC                      349\n",
       "CHARLES SCHWAB CORPORATION, THE               344\n",
       "BANK OF NEW YORK MELLON CORPORATION, THE      333\n",
       "Northern Trust Company, The                    98\n",
       "STATE STREET BANK AND TRUST COMPANY            25\n",
       "Name: Company, dtype: int64"
      ]
     },
     "execution_count": 23,
     "metadata": {},
     "output_type": "execute_result"
    }
   ],
   "source": [
    "# Changing all 'SUNTRUST BANKS, INC.' and 'BB&T CORPORATION' values to be 'TRUIST FINANCIAL CORPORATION'\n",
    "former_comp = ['SUNTRUST BANKS, INC.', 'BB&T CORPORATION']\n",
    "\n",
    "complaints_top25.loc[complaints_top25['Company'].isin(former_comp), 'Company'] = 'TRUIST FINANCIAL CORPORATION'\n",
    "\n",
    "complaints_top25['Company'].value_counts()"
   ]
  },
  {
   "cell_type": "markdown",
   "metadata": {},
   "source": [
    "The action was completed as expected. There are no longer any entries for 'SUNTRUST BANKS, INC.' and 'BB&T CORPORATION.' TRUIST FINANCIAL CORPORATION now has 16,314 complaints associated with it."
   ]
  },
  {
   "cell_type": "code",
   "execution_count": 24,
   "metadata": {
    "scrolled": true
   },
   "outputs": [
    {
     "data": {
      "text/plain": [
       "Web            303781\n",
       "Referral       118863\n",
       "Phone           40317\n",
       "Postal mail     22505\n",
       "Fax              6194\n",
       "Email             236\n",
       "Name: Submitted_via, dtype: int64"
      ]
     },
     "execution_count": 24,
     "metadata": {},
     "output_type": "execute_result"
    }
   ],
   "source": [
    "# Exploring the 'Submitted_via' column\n",
    "complaints_top25['Submitted_via'].value_counts()"
   ]
  },
  {
   "cell_type": "markdown",
   "metadata": {},
   "source": [
    "The 'Submitted_via' column contains 6 unique values."
   ]
  },
  {
   "cell_type": "code",
   "execution_count": 25,
   "metadata": {},
   "outputs": [
    {
     "data": {
      "text/plain": [
       "Yes    485361\n",
       "No       6535\n",
       "Name: Timely_response?, dtype: int64"
      ]
     },
     "execution_count": 25,
     "metadata": {},
     "output_type": "execute_result"
    }
   ],
   "source": [
    "# Exploring the 'Timely_response?' column\n",
    "complaints_top25['Timely_response?'].value_counts()"
   ]
  },
  {
   "cell_type": "markdown",
   "metadata": {},
   "source": [
    "The 'Timely_response?' column is either \"Yes\" or \"No\" with no missing values."
   ]
  },
  {
   "cell_type": "code",
   "execution_count": 26,
   "metadata": {},
   "outputs": [
    {
     "data": {
      "text/plain": [
       "Mortgage                                                                        147256\n",
       "Bank account or service                                                          69213\n",
       "Credit card                                                                      66677\n",
       "Credit card or prepaid card                                                      60330\n",
       "Checking or savings account                                                      58565\n",
       "Credit reporting, credit repair services, or other personal consumer reports     27249\n",
       "Debt collection                                                                  26482\n",
       "Consumer Loan                                                                    11879\n",
       "Money transfer, virtual currency, or money service                                6627\n",
       "Vehicle loan or lease                                                             6479\n",
       "Student loan                                                                      4409\n",
       "Payday loan, title loan, or personal loan                                         2193\n",
       "Credit reporting                                                                  1490\n",
       "Prepaid card                                                                      1379\n",
       "Money transfers                                                                   1206\n",
       "Other financial service                                                            349\n",
       "Payday loan                                                                        113\n",
       "Name: Product, dtype: int64"
      ]
     },
     "execution_count": 26,
     "metadata": {},
     "output_type": "execute_result"
    }
   ],
   "source": [
    "# Exploring the 'Product' column again now that we have reduced the values in the 'Company' column\n",
    "complaints_top25['Product'].value_counts()"
   ]
  },
  {
   "cell_type": "markdown",
   "metadata": {},
   "source": [
    "The 'Product' column now has 17 unique values. \"Virtual currency\" was the category that was dropped when we narrowed our list to the top 25 depository instituitions. \"Mortgage\" is by far the the most popular category under the 'Product' column for the top 25 companies.\n",
    "\n",
    "That completes a review of the columns with no NaN values. Moving on to explore columns with NaN values.\n",
    "\n",
    "***"
   ]
  },
  {
   "cell_type": "code",
   "execution_count": 27,
   "metadata": {},
   "outputs": [
    {
     "name": "stdout",
     "output_type": "stream",
     "text": [
      "<class 'pandas.core.frame.DataFrame'>\n",
      "Int64Index: 491896 entries, 29 to 1785976\n",
      "Data columns (total 18 columns):\n",
      " #   Column                        Non-Null Count   Dtype         \n",
      "---  ------                        --------------   -----         \n",
      " 0   Date_received                 491896 non-null  datetime64[ns]\n",
      " 1   Product                       491896 non-null  object        \n",
      " 2   Sub-product                   423616 non-null  object        \n",
      " 3   Issue                         491896 non-null  object        \n",
      " 4   Sub-issue                     182864 non-null  object        \n",
      " 5   Consumer_complaint_narrative  130709 non-null  object        \n",
      " 6   Company_public_response       176117 non-null  object        \n",
      " 7   Company                       491896 non-null  object        \n",
      " 8   State                         480053 non-null  object        \n",
      " 9   ZIP_code                      449834 non-null  object        \n",
      " 10  Tags                          69727 non-null   object        \n",
      " 11  Consumer_consent_provided?    212698 non-null  object        \n",
      " 12  Submitted_via                 491896 non-null  object        \n",
      " 13  Date_sent_to_company          491896 non-null  datetime64[ns]\n",
      " 14  Company_response_to_consumer  491896 non-null  object        \n",
      " 15  Timely_response?              491896 non-null  object        \n",
      " 16  Consumer_disputed?            289962 non-null  object        \n",
      " 17  Complaint_ID                  491896 non-null  int64         \n",
      "dtypes: datetime64[ns](2), int64(1), object(15)\n",
      "memory usage: 71.3+ MB\n"
     ]
    }
   ],
   "source": [
    "complaints_top25.info()"
   ]
  },
  {
   "cell_type": "markdown",
   "metadata": {},
   "source": [
    "***\n",
    "<a name=\"handle_nan\"></a>\n",
    "**Handling NaN Values**  \n",
    "\n",
    "Exploring the data contained in the columns with NaN values now.\n",
    "\n",
    "Columns to be reviewed:\n",
    "\n",
    "'Sub-product'  \n",
    "'Issue'  \n",
    "'Sub-issue'  \n",
    "'State'  \n",
    "'ZIP_code'  \n",
    "'Tags'  \n",
    "'Consumer_consent_provided?'  \n",
    "'Consumer_disputed?'  \n",
    "\n",
    "As noted earlier, the 'Consumer_complaint_narrative' and 'Company_public_response' columns are sentences and are not in the plans to be used in this analysis at this time. Even though these columns contain NaN values they will not be evaluated in this section.\n",
    "\n",
    "[Back to Top](#top)"
   ]
  },
  {
   "cell_type": "code",
   "execution_count": 28,
   "metadata": {},
   "outputs": [
    {
     "data": {
      "text/plain": [
       "Checking account                              94834\n",
       "Other mortgage                                52189\n",
       "General-purpose credit card or charge card    51197\n",
       "Conventional fixed mortgage                   32657\n",
       "Credit reporting                              26401\n",
       "                                              ...  \n",
       "Medical debt                                     26\n",
       "Credit repair                                     8\n",
       "Transit card                                      8\n",
       "Student prepaid card                              5\n",
       "Electronic Benefit Transfer / EBT card            4\n",
       "Name: Sub-product, Length: 76, dtype: int64"
      ]
     },
     "execution_count": 28,
     "metadata": {},
     "output_type": "execute_result"
    }
   ],
   "source": [
    "# Exploring the 'Sub-product' column\n",
    "complaints_top25['Sub-product'].value_counts()"
   ]
  },
  {
   "cell_type": "code",
   "execution_count": 29,
   "metadata": {},
   "outputs": [
    {
     "data": {
      "text/plain": [
       "68280"
      ]
     },
     "execution_count": 29,
     "metadata": {},
     "output_type": "execute_result"
    }
   ],
   "source": [
    "complaints_top25['Sub-product'].isna().sum()"
   ]
  },
  {
   "cell_type": "markdown",
   "metadata": {},
   "source": [
    "The 'Sub-product' column contains 76 unique values and 68,280 NaN values in. These will be imputed with \"NONE ENTERED\" in order to denote that no sub category was selected by the consumer."
   ]
  },
  {
   "cell_type": "code",
   "execution_count": 30,
   "metadata": {},
   "outputs": [
    {
     "data": {
      "text/plain": [
       "Loan modification,collection,foreclosure             67210\n",
       "Managing an account                                  36981\n",
       "Loan servicing, payments, escrow account             33680\n",
       "Account opening, closing, or management              30148\n",
       "Deposits and withdrawals                             18633\n",
       "                                                     ...  \n",
       "Problem with credit report or credit score               2\n",
       "Problem with an overdraft                                2\n",
       "Was approved for a loan, but didn't receive money        2\n",
       "Lender sold the property                                 1\n",
       "Lender damaged or destroyed property                     1\n",
       "Name: Issue, Length: 162, dtype: int64"
      ]
     },
     "execution_count": 30,
     "metadata": {},
     "output_type": "execute_result"
    }
   ],
   "source": [
    "# Exploring the 'Issue' column\n",
    "complaints_top25['Issue'].value_counts()"
   ]
  },
  {
   "cell_type": "code",
   "execution_count": 31,
   "metadata": {},
   "outputs": [
    {
     "data": {
      "text/plain": [
       "0"
      ]
     },
     "execution_count": 31,
     "metadata": {},
     "output_type": "execute_result"
    }
   ],
   "source": [
    "complaints_top25['Issue'].isna().sum()"
   ]
  },
  {
   "cell_type": "markdown",
   "metadata": {},
   "source": [
    "The 'Issue' column has 162 unique values. Our action to narrow down this list to just the top 25 depository institutions removed the one NaN value in this column. No action is needed now but in case more NaN values are in this column in the future, we will add it to our NaN cleanup function to impute \"NONE ENTERED\"."
   ]
  },
  {
   "cell_type": "code",
   "execution_count": 32,
   "metadata": {},
   "outputs": [
    {
     "data": {
      "text/plain": [
       "Deposits and withdrawals                                                            12811\n",
       "Credit card company isn't resolving a dispute about a purchase on your statement    11425\n",
       "Company closed your account                                                          6611\n",
       "Problem using a debit or ATM card                                                    6359\n",
       "Account status incorrect                                                             5392\n",
       "                                                                                    ...  \n",
       "Receiving unwanted marketing/advertising                                                6\n",
       "Contacted you instead of your attorney                                                  6\n",
       "Problem getting my free annual report                                                   4\n",
       "Incorrect information on your report                                                    1\n",
       "Was signed up for overdraft on card, but don't want to be                               1\n",
       "Name: Sub-issue, Length: 215, dtype: int64"
      ]
     },
     "execution_count": 32,
     "metadata": {},
     "output_type": "execute_result"
    }
   ],
   "source": [
    "# Exploring the 'Sub-issue' column\n",
    "complaints_top25['Sub-issue'].value_counts()"
   ]
  },
  {
   "cell_type": "code",
   "execution_count": 33,
   "metadata": {},
   "outputs": [
    {
     "data": {
      "text/plain": [
       "309032"
      ]
     },
     "execution_count": 33,
     "metadata": {},
     "output_type": "execute_result"
    }
   ],
   "source": [
    "complaints_top25['Sub-issue'].isna().sum()"
   ]
  },
  {
   "cell_type": "markdown",
   "metadata": {},
   "source": [
    "The 'Sub-issue' column contains 215 unique values and 308,883 NaN values. These will be imputed with \"NONE ENTERED\" to denote that no sub issue was selected by the consumer as is being done for the 'Sub-product' column."
   ]
  },
  {
   "cell_type": "code",
   "execution_count": 34,
   "metadata": {},
   "outputs": [
    {
     "data": {
      "text/plain": [
       "CA    74725\n",
       "FL    47464\n",
       "NY    40126\n",
       "TX    29611\n",
       "GA    21729\n",
       "      ...  \n",
       "AA       16\n",
       "MH       12\n",
       "AS       11\n",
       "MP        7\n",
       "PW        5\n",
       "Name: State, Length: 63, dtype: int64"
      ]
     },
     "execution_count": 34,
     "metadata": {},
     "output_type": "execute_result"
    }
   ],
   "source": [
    "# Exploring the 'State' column\n",
    "complaints_top25['State'].value_counts()"
   ]
  },
  {
   "cell_type": "code",
   "execution_count": 35,
   "metadata": {},
   "outputs": [
    {
     "data": {
      "text/plain": [
       "11843"
      ]
     },
     "execution_count": 35,
     "metadata": {},
     "output_type": "execute_result"
    }
   ],
   "source": [
    "complaints_top25['State'].isna().sum()"
   ]
  },
  {
   "cell_type": "markdown",
   "metadata": {},
   "source": [
    "The 'State' column contains 63 unique values and 11,796 NaN values. NaN values will be imputed with \"UNKNOWN\". All other values that are not a state or the District of Colombia will be changed to be \"OTHER\" in order to make this data better suited for visualizations."
   ]
  },
  {
   "cell_type": "code",
   "execution_count": 36,
   "metadata": {},
   "outputs": [
    {
     "data": {
      "text/plain": [
       "300XX    2027\n",
       "606XX    1846\n",
       "331XX    1790\n",
       "900XX    1723\n",
       "945XX    1695\n",
       "         ... \n",
       "75356       1\n",
       "06024       1\n",
       "59771       1\n",
       "35161       1\n",
       "36049       1\n",
       "Name: ZIP_code, Length: 18418, dtype: int64"
      ]
     },
     "execution_count": 36,
     "metadata": {},
     "output_type": "execute_result"
    }
   ],
   "source": [
    "# Exploring the 'ZIP_code' column\n",
    "complaints_top25['ZIP_code'].value_counts()"
   ]
  },
  {
   "cell_type": "code",
   "execution_count": 37,
   "metadata": {},
   "outputs": [
    {
     "data": {
      "text/plain": [
       "42062"
      ]
     },
     "execution_count": 37,
     "metadata": {},
     "output_type": "execute_result"
    }
   ],
   "source": [
    "complaints_top25['ZIP_code'].isna().sum()"
   ]
  },
  {
   "cell_type": "markdown",
   "metadata": {},
   "source": [
    "The 'ZIP_code' column contains 18,394 unique values and 42,018 NaN values. Since some of the zip codes are incomplete and we have the 'State' column that we can group complaints by, this column is not needed and will be dropped."
   ]
  },
  {
   "cell_type": "code",
   "execution_count": 38,
   "metadata": {},
   "outputs": [
    {
     "name": "stdout",
     "output_type": "stream",
     "text": [
      "<class 'pandas.core.frame.DataFrame'>\n",
      "Int64Index: 491896 entries, 29 to 1785976\n",
      "Data columns (total 17 columns):\n",
      " #   Column                        Non-Null Count   Dtype         \n",
      "---  ------                        --------------   -----         \n",
      " 0   Date_received                 491896 non-null  datetime64[ns]\n",
      " 1   Product                       491896 non-null  object        \n",
      " 2   Sub-product                   423616 non-null  object        \n",
      " 3   Issue                         491896 non-null  object        \n",
      " 4   Sub-issue                     182864 non-null  object        \n",
      " 5   Consumer_complaint_narrative  130709 non-null  object        \n",
      " 6   Company_public_response       176117 non-null  object        \n",
      " 7   Company                       491896 non-null  object        \n",
      " 8   State                         480053 non-null  object        \n",
      " 9   Tags                          69727 non-null   object        \n",
      " 10  Consumer_consent_provided?    212698 non-null  object        \n",
      " 11  Submitted_via                 491896 non-null  object        \n",
      " 12  Date_sent_to_company          491896 non-null  datetime64[ns]\n",
      " 13  Company_response_to_consumer  491896 non-null  object        \n",
      " 14  Timely_response?              491896 non-null  object        \n",
      " 15  Consumer_disputed?            289962 non-null  object        \n",
      " 16  Complaint_ID                  491896 non-null  int64         \n",
      "dtypes: datetime64[ns](2), int64(1), object(14)\n",
      "memory usage: 67.6+ MB\n"
     ]
    }
   ],
   "source": [
    "# Dropping the 'ZIP_code' column\n",
    "complaints_top25.drop(['ZIP_code'], axis=1, inplace=True)\n",
    "complaints_top25.info()"
   ]
  },
  {
   "cell_type": "code",
   "execution_count": 39,
   "metadata": {},
   "outputs": [
    {
     "data": {
      "text/plain": [
       "Older American                   36684\n",
       "Servicemember                    26353\n",
       "Older American, Servicemember     6690\n",
       "Name: Tags, dtype: int64"
      ]
     },
     "execution_count": 39,
     "metadata": {},
     "output_type": "execute_result"
    }
   ],
   "source": [
    "# Exploring the 'Tags' column\n",
    "complaints_top25['Tags'].value_counts()"
   ]
  },
  {
   "cell_type": "code",
   "execution_count": 40,
   "metadata": {},
   "outputs": [
    {
     "data": {
      "text/plain": [
       "422169"
      ]
     },
     "execution_count": 40,
     "metadata": {},
     "output_type": "execute_result"
    }
   ],
   "source": [
    "complaints_top25['Tags'].isna().sum()"
   ]
  },
  {
   "cell_type": "markdown",
   "metadata": {},
   "source": [
    "The 'Tags' column contains only 3 unique values and 421,504 NaN values. We will not be using imputation for the NaN values in this column so that we can focus our analysis and visualizations on the 3 categories in this column. Identifying NaN values in analysis of this column would create unnecessary confusion."
   ]
  },
  {
   "cell_type": "code",
   "execution_count": 41,
   "metadata": {},
   "outputs": [
    {
     "data": {
      "text/plain": [
       "Consent provided        130755\n",
       "Consent not provided     75399\n",
       "Other                     5985\n",
       "Consent withdrawn          559\n",
       "Name: Consumer_consent_provided?, dtype: int64"
      ]
     },
     "execution_count": 41,
     "metadata": {},
     "output_type": "execute_result"
    }
   ],
   "source": [
    "# Exploring the 'Consumer_consent_provided?' column\n",
    "complaints_top25['Consumer_consent_provided?'].value_counts()"
   ]
  },
  {
   "cell_type": "code",
   "execution_count": 42,
   "metadata": {},
   "outputs": [
    {
     "data": {
      "text/plain": [
       "279198"
      ]
     },
     "execution_count": 42,
     "metadata": {},
     "output_type": "execute_result"
    }
   ],
   "source": [
    "complaints_top25['Consumer_consent_provided?'].isna().sum()"
   ]
  },
  {
   "cell_type": "markdown",
   "metadata": {},
   "source": [
    "Wow! There are 279,172 complaints with missing values in the 'Consumer_consent_provided?' column. Somehow these do not fall into the \"Consent not provided\" or even \"Other\" categories. We will impute these missing values with \"NONE ENTERED\" in order to signify that the consumer did not make a selection in this column."
   ]
  },
  {
   "cell_type": "code",
   "execution_count": 43,
   "metadata": {},
   "outputs": [
    {
     "data": {
      "text/plain": [
       "No     228814\n",
       "Yes     61148\n",
       "Name: Consumer_disputed?, dtype: int64"
      ]
     },
     "execution_count": 43,
     "metadata": {},
     "output_type": "execute_result"
    }
   ],
   "source": [
    "# Exploring the 'Consumer_disputed?' column\n",
    "complaints_top25['Consumer_disputed?'].value_counts()"
   ]
  },
  {
   "cell_type": "code",
   "execution_count": 44,
   "metadata": {},
   "outputs": [
    {
     "data": {
      "text/plain": [
       "201934"
      ]
     },
     "execution_count": 44,
     "metadata": {},
     "output_type": "execute_result"
    }
   ],
   "source": [
    "complaints_top25['Consumer_disputed?'].isna().sum()"
   ]
  },
  {
   "cell_type": "markdown",
   "metadata": {},
   "source": [
    "The 'Consumer_disputed?' column is either \"Yes\" or \"No\" but there are 201,113 NaN values which is strange because it could be assumed that this column would be binary. If the consumer has not selected \"Yes\" to dispute, it would be assumed the value in this column would default to \"No\". Further investigation of this column is necessary."
   ]
  },
  {
   "cell_type": "code",
   "execution_count": 45,
   "metadata": {},
   "outputs": [],
   "source": [
    "# Exporting dataframe to Excel in order to further investigate the NaN values in the 'Consumer_disputed?' column.\n",
    "# complaints_top25.to_excel('consumer_disputed.xlsx')"
   ]
  },
  {
   "cell_type": "markdown",
   "metadata": {},
   "source": [
    "No correlation could be identified between the 'Consumer_disputed?' column and other columns in the dataset. The assumption is that these NaN values represent consumers who have not taken the action to specifically say \"Yes\" or \"No\" they dispute the official \"Company_public_response.\" The NaN values will be imputed with \"NO CONSUMER RESPONSE.\"\n",
    "\n",
    "Upon further investigation of the 'Consumer_consent_provided?' column, this data is not useful for our analysis and will be dropped. If the consumer selected anything other than \"Consent provided\" (including not answering this question), their \"Consumer_complaint_narrative\" will not be made available in the DB."
   ]
  },
  {
   "cell_type": "code",
   "execution_count": 46,
   "metadata": {
    "scrolled": true
   },
   "outputs": [
    {
     "name": "stdout",
     "output_type": "stream",
     "text": [
      "<class 'pandas.core.frame.DataFrame'>\n",
      "Int64Index: 491896 entries, 29 to 1785976\n",
      "Data columns (total 16 columns):\n",
      " #   Column                        Non-Null Count   Dtype         \n",
      "---  ------                        --------------   -----         \n",
      " 0   Date_received                 491896 non-null  datetime64[ns]\n",
      " 1   Product                       491896 non-null  object        \n",
      " 2   Sub-product                   423616 non-null  object        \n",
      " 3   Issue                         491896 non-null  object        \n",
      " 4   Sub-issue                     182864 non-null  object        \n",
      " 5   Consumer_complaint_narrative  130709 non-null  object        \n",
      " 6   Company_public_response       176117 non-null  object        \n",
      " 7   Company                       491896 non-null  object        \n",
      " 8   State                         480053 non-null  object        \n",
      " 9   Tags                          69727 non-null   object        \n",
      " 10  Submitted_via                 491896 non-null  object        \n",
      " 11  Date_sent_to_company          491896 non-null  datetime64[ns]\n",
      " 12  Company_response_to_consumer  491896 non-null  object        \n",
      " 13  Timely_response?              491896 non-null  object        \n",
      " 14  Consumer_disputed?            289962 non-null  object        \n",
      " 15  Complaint_ID                  491896 non-null  int64         \n",
      "dtypes: datetime64[ns](2), int64(1), object(13)\n",
      "memory usage: 63.8+ MB\n"
     ]
    }
   ],
   "source": [
    "# Dropping the 'Consumer_consent_provided?' column\n",
    "complaints_top25.drop(['Consumer_consent_provided?'], axis=1, inplace=True)\n",
    "complaints_top25.info()"
   ]
  },
  {
   "cell_type": "code",
   "execution_count": 47,
   "metadata": {},
   "outputs": [],
   "source": [
    "# Making changes for the 'State' column as outlined above\n",
    "\n",
    "# NaN values in the 'State' column by imputing them with \"UNKNOWN\"\n",
    "complaints_top25['State'].fillna('UNKNOWN', inplace=True)"
   ]
  },
  {
   "cell_type": "code",
   "execution_count": 48,
   "metadata": {},
   "outputs": [],
   "source": [
    "# Changing all values in the 'State' column that are not a state, \"DC\", or \"UNKNOWN\" to be \"OTHER\" \n",
    "states = ['AK', 'AL', 'AR', 'AZ', 'CA', 'CO', 'CT', 'DC', 'DE', 'FL', 'GA', 'HI', 'IA', 'ID', 'IL', 'IN', 'KS',\n",
    "          'KY', 'LA', 'MA', 'MD', 'ME', 'MI', 'MN', 'MO', 'MS', 'MT', 'NC', 'ND', 'NE', 'NH', 'NJ', 'NM', 'NV',\n",
    "          'NY', 'OH', 'OK', 'OR', 'PA', 'RI', 'SC', 'SD', 'TN', 'TX', 'UT', 'VA', 'VT', 'WA', 'WI', 'WV', 'WY', 'UNKNOWN']\n",
    "\n",
    "complaints_top25.loc[~complaints_top25['State'].isin(states), 'State'] = 'OTHER'"
   ]
  },
  {
   "cell_type": "code",
   "execution_count": 49,
   "metadata": {
    "scrolled": true
   },
   "outputs": [
    {
     "data": {
      "text/plain": [
       "CA         74725\n",
       "FL         47464\n",
       "NY         40126\n",
       "TX         29611\n",
       "GA         21729\n",
       "NJ         21532\n",
       "IL         19030\n",
       "PA         18140\n",
       "MD         15431\n",
       "VA         15109\n",
       "OH         14743\n",
       "NC         14160\n",
       "UNKNOWN    11843\n",
       "MI         11265\n",
       "MA         11114\n",
       "AZ         10728\n",
       "WA          9912\n",
       "CO          7701\n",
       "CT          6519\n",
       "TN          6490\n",
       "NV          5993\n",
       "MN          5877\n",
       "MO          5693\n",
       "OR          5572\n",
       "SC          5421\n",
       "WI          5209\n",
       "IN          4804\n",
       "LA          4064\n",
       "AL          3955\n",
       "DC          3163\n",
       "KY          3035\n",
       "DE          2700\n",
       "UT          2490\n",
       "OK          2213\n",
       "NH          2206\n",
       "KS          1975\n",
       "AR          1857\n",
       "MS          1804\n",
       "NM          1748\n",
       "IA          1726\n",
       "RI          1644\n",
       "ME          1568\n",
       "HI          1386\n",
       "ID          1371\n",
       "NE          1314\n",
       "OTHER       1124\n",
       "WV          1056\n",
       "VT           843\n",
       "MT           761\n",
       "SD           623\n",
       "AK           564\n",
       "WY           385\n",
       "ND           380\n",
       "Name: State, dtype: int64"
      ]
     },
     "execution_count": 49,
     "metadata": {},
     "output_type": "execute_result"
    }
   ],
   "source": [
    "complaints_top25['State'].value_counts()"
   ]
  },
  {
   "cell_type": "code",
   "execution_count": 50,
   "metadata": {},
   "outputs": [
    {
     "data": {
      "text/plain": [
       "0"
      ]
     },
     "execution_count": 50,
     "metadata": {},
     "output_type": "execute_result"
    }
   ],
   "source": [
    "complaints_top25['State'].isna().sum()"
   ]
  },
  {
   "cell_type": "markdown",
   "metadata": {},
   "source": [
    "The 'State' column is as intended now. There are 53 unique values and 0 NaN values."
   ]
  },
  {
   "cell_type": "code",
   "execution_count": 51,
   "metadata": {
    "scrolled": true
   },
   "outputs": [
    {
     "name": "stdout",
     "output_type": "stream",
     "text": [
      "<class 'pandas.core.frame.DataFrame'>\n",
      "Int64Index: 491896 entries, 29 to 1785976\n",
      "Data columns (total 4 columns):\n",
      " #   Column       Non-Null Count   Dtype \n",
      "---  ------       --------------   ----- \n",
      " 0   Issue        491896 non-null  object\n",
      " 1   Sub-product  491896 non-null  object\n",
      " 2   Sub-issue    491896 non-null  object\n",
      " 3   State        491896 non-null  object\n",
      "dtypes: object(4)\n",
      "memory usage: 18.8+ MB\n"
     ]
    }
   ],
   "source": [
    "# Handling NaN values in the 'Issue', 'Sub-product', 'Sub-issue', and 'State' columns by imputing them with \"NONE ENTERED\"\n",
    "\n",
    "nan_col = ['Issue', 'Sub-product', 'Sub-issue', 'State']\n",
    "\n",
    "for col in nan_col:\n",
    "    complaints_top25[col].fillna('NONE ENTERED', inplace=True)\n",
    "    \n",
    "complaints_top25[['Issue', 'Sub-product', 'Sub-issue', 'State']].info()"
   ]
  },
  {
   "cell_type": "markdown",
   "metadata": {},
   "source": [
    "All NaN values handled as expected."
   ]
  },
  {
   "cell_type": "code",
   "execution_count": 52,
   "metadata": {},
   "outputs": [
    {
     "name": "stdout",
     "output_type": "stream",
     "text": [
      "<class 'pandas.core.frame.DataFrame'>\n",
      "Int64Index: 491896 entries, 29 to 1785976\n",
      "Data columns (total 1 columns):\n",
      " #   Column              Non-Null Count   Dtype \n",
      "---  ------              --------------   ----- \n",
      " 0   Consumer_disputed?  491896 non-null  object\n",
      "dtypes: object(1)\n",
      "memory usage: 7.5+ MB\n"
     ]
    }
   ],
   "source": [
    "# Handling NaN values in the 'Consumer_disputed?' columns by imputing them with \"NO CONSUMER RESPONSE\"\n",
    "\n",
    "complaints_top25['Consumer_disputed?'].fillna(\"NO CONSUMER RESPONSE\", inplace=True)\n",
    "complaints_top25[['Consumer_disputed?']].info()"
   ]
  },
  {
   "cell_type": "markdown",
   "metadata": {},
   "source": [
    "All NaN values handled as expected."
   ]
  },
  {
   "cell_type": "code",
   "execution_count": 53,
   "metadata": {
    "scrolled": true
   },
   "outputs": [
    {
     "data": {
      "image/png": "[encoded data removed]",
      "text/plain": [
       "<Figure size 1080x792 with 1 Axes>"
      ]
     },
     "metadata": {
      "needs_background": "light"
     },
     "output_type": "display_data"
    }
   ],
   "source": [
    "# Plotting a line graph to show the weekly volume of complaints from 12/2011 through 09/2020\n",
    "fig, ax = plt.subplots(figsize=(15, 11))\n",
    "comp_graph = complaints_top25[['Date_received', 'Complaint_ID']].copy()\n",
    "\n",
    "# Filter by date range so that the visualization covers exact weeks with no partial weeks\n",
    "comp_graph = comp_graph[(comp_graph['Date_received'] > '2011-12-04') & (comp_graph['Date_received'] < '2020-10-03')]\n",
    "\n",
    "count_by_date = comp_graph.groupby(['Date_received'])['Complaint_ID'].size()\n",
    "\n",
    "plt.subplot(211)\n",
    "\n",
    "# Resample time series to weekly for easier visualization\n",
    "count_by_date.resample('W').sum().plot()\n",
    "\n",
    "plt.xlabel('Date')\n",
    "plt.ylabel('# of Complaints')\n",
    "plt.suptitle('Number of Complaints (by Week):  December 2011 - September 2020', y=0.93, fontsize=16)\n",
    "plt.title('CFPB Top 25 Depository Institutions (by total assets) as of March 2020');\n",
    "\n",
    "# plt.savefig('AVG_List_Price', bbox_inches='tight');"
   ]
  },
  {
   "cell_type": "markdown",
   "metadata": {},
   "source": [
    "Over the course of our dataset, we can see a few distinct times that the volume of complaints has risen. The biggest rise is in Q2 2012. There are also spikes in Q1 2013, Q3 2015, Q4 2016, Q2 2018, and Q2-Q3 2020.\n",
    "\n",
    "We will explore the data further using Tableau after we create a function to make the preparation of data repeatable in the Data Preparation section below."
   ]
  },
  {
   "cell_type": "code",
   "execution_count": 54,
   "metadata": {
    "scrolled": true
   },
   "outputs": [
    {
     "name": "stdout",
     "output_type": "stream",
     "text": [
      "<class 'pandas.core.frame.DataFrame'>\n",
      "Int64Index: 491896 entries, 29 to 1785976\n",
      "Data columns (total 16 columns):\n",
      " #   Column                        Non-Null Count   Dtype         \n",
      "---  ------                        --------------   -----         \n",
      " 0   Date_received                 491896 non-null  datetime64[ns]\n",
      " 1   Product                       491896 non-null  object        \n",
      " 2   Sub-product                   491896 non-null  object        \n",
      " 3   Issue                         491896 non-null  object        \n",
      " 4   Sub-issue                     491896 non-null  object        \n",
      " 5   Consumer_complaint_narrative  130709 non-null  object        \n",
      " 6   Company_public_response       176117 non-null  object        \n",
      " 7   Company                       491896 non-null  object        \n",
      " 8   State                         491896 non-null  object        \n",
      " 9   Tags                          69727 non-null   object        \n",
      " 10  Submitted_via                 491896 non-null  object        \n",
      " 11  Date_sent_to_company          491896 non-null  datetime64[ns]\n",
      " 12  Company_response_to_consumer  491896 non-null  object        \n",
      " 13  Timely_response?              491896 non-null  object        \n",
      " 14  Consumer_disputed?            491896 non-null  object        \n",
      " 15  Complaint_ID                  491896 non-null  int64         \n",
      "dtypes: datetime64[ns](2), int64(1), object(13)\n",
      "memory usage: 63.8+ MB\n"
     ]
    }
   ],
   "source": [
    "complaints_top25.info()"
   ]
  },
  {
   "cell_type": "markdown",
   "metadata": {},
   "source": [
    "Our dataset is as we want it now. All NaN values have been imputed except those in the 'Consumer_complaint_narrative', 'Company_public_response', and 'Tags' columns.\n",
    "\n",
    "That concludes our work in the Data Understanding section. We have ended with 491,075 complaints and 16 columns of data."
   ]
  },
  {
   "cell_type": "markdown",
   "metadata": {},
   "source": [
    "***\n",
    "<a name=\"data_prep\"></a>\n",
    "## Data Preparation\n",
    "In this section, we will take learnings along with data preparation tasks from the Data Understanding step above in order to create functions that will make the data prepararation repeatable for future use.\n",
    "\n",
    "[Back to Top](#top)"
   ]
  },
  {
   "cell_type": "markdown",
   "metadata": {},
   "source": [
    "### Data Load and Clean Functions"
   ]
  },
  {
   "cell_type": "code",
   "execution_count": 3,
   "metadata": {},
   "outputs": [],
   "source": [
    "import os\n",
    "import numpy as np\n",
    "import pandas as pd\n",
    "import matplotlib.pyplot as plt\n",
    "from zipfile import ZipFile\n",
    "\n",
    "# Used for plotting\n",
    "%matplotlib inline\n",
    "import matplotlib as mpl\n",
    "import matplotlib.pyplot as plt\n",
    "\n",
    "import seaborn as sns\n",
    "\n",
    "# Filter to ignore math related warnings\n",
    "import warnings\n",
    "warnings.filterwarnings(action=\"ignore\", message=\"^internal gelsd\")\n",
    "\n",
    "\n",
    "def complaints_df():\n",
    "\n",
    "    # Creating our dataframe from complaints.csv\n",
    "    complaints = pd.read_csv('C:/Users/Leone/Desktop/CFPB/complaints.csv',\n",
    "                             usecols=['Date received', 'Product', 'Sub-product', 'Issue', 'Sub-issue',\n",
    "                                      'Consumer complaint narrative', 'Company public response', 'Company', 'State',\n",
    "                                      'Tags', 'Submitted via', 'Date sent to company', 'Company response to consumer',\n",
    "                                      'Timely response?', 'Consumer disputed?', 'Complaint ID'])\n",
    "\n",
    "    return complaints\n",
    "\n",
    "\n",
    "def create_complaints_df():\n",
    "\n",
    "    # Create the complaints dataframe\n",
    "    complaints = complaints_df()\n",
    "\n",
    "    # Clean up the column names to make them easier to manage going forward\n",
    "    complaints.columns = complaints.columns.str.replace(' ', '_')\n",
    "\n",
    "    # Keep only the top 25 depository institutions based on total assets\n",
    "    company_keep = ['JPMORGAN CHASE & CO.', 'BANK OF AMERICA, NATIONAL ASSOCIATION', 'WELLS FARGO & COMPANY', 'CITIBANK, N.A.', \n",
    "             'U.S. BANCORP', 'TRUIST FINANCIAL CORPORATION', 'SUNTRUST BANKS, INC.', 'BB&T CORPORATION', 'PNC Bank N.A.', \n",
    "             'BANK OF NEW YORK MELLON CORPORATION, THE', 'STATE STREET BANK AND TRUST COMPANY', 'TD BANK US HOLDING COMPANY', \n",
    "             'CAPITAL ONE FINANCIAL CORPORATION', 'CHARLES SCHWAB CORPORATION, THE', 'GOLDMAN SACHS BANK USA', \n",
    "             'HSBC NORTH AMERICA HOLDINGS INC.', 'FIFTH THIRD FINANCIAL CORPORATION', 'MORGAN STANLEY & CO. LLC', \n",
    "             'CITIZENS FINANCIAL GROUP, INC.', 'ALLY FINANCIAL INC.', 'Northern Trust Company, The', 'KEYCORP', \n",
    "             'BMO HARRIS BANK NATIONAL ASSOCIATION', 'MUFG UNION BANK, NATIONAL ASSOCIATION', 'REGIONS FINANCIAL CORPORATION',\n",
    "             'AMERICAN EXPRESS COMPANY', 'NAVY FEDERAL CREDIT UNION']\n",
    "    complaints = complaints[complaints['Company'].isin(company_keep)]\n",
    "    \n",
    "    # Changing all 'SUNTRUST BANKS, INC.' and 'BB&T CORPORATION' values to be 'TRUIST FINANCIAL CORPORATION'\n",
    "    former_comp = ['SUNTRUST BANKS, INC.', 'BB&T CORPORATION']\n",
    "    complaints.loc[complaints['Company'].isin(former_comp), 'Company'] = 'TRUIST FINANCIAL CORPORATION'\n",
    "\n",
    "    # Convert the 'Date_received' and 'Date_sent_to_company' columns to datetime dtype\n",
    "    complaints[['Date_received', 'Date_sent_to_company']] = complaints[['Date_received', 'Date_sent_to_company']].apply(pd.to_datetime)\n",
    "\n",
    "    # Handle NaN values\n",
    "    complaints = complaints_nan(complaints)\n",
    "    \n",
    "    # Change all values in the 'State' column that are not a state, \"DC\", or \"UNKNOWN\" to be \"OTHER\" \n",
    "    states = ['AK', 'AL', 'AR', 'AZ', 'CA', 'CO', 'CT', 'DC', 'DE', 'FL', 'GA', 'HI', 'IA', 'ID', 'IL', 'IN', 'KS',\n",
    "          'KY', 'LA', 'MA', 'MD', 'ME', 'MI', 'MN', 'MO', 'MS', 'MT', 'NC', 'ND', 'NE', 'NH', 'NJ', 'NM', 'NV',\n",
    "          'NY', 'OH', 'OK', 'OR', 'PA', 'RI', 'SC', 'SD', 'TN', 'TX', 'UT', 'VA', 'VT', 'WA', 'WI', 'WV', 'WY', \"UNKNOWN\"]\n",
    "\n",
    "    complaints.loc[~complaints['State'].isin(states), 'State'] = 'OTHER'\n",
    "\n",
    "    return complaints\n",
    "\n",
    "\n",
    "def complaints_nan(complaints):\n",
    "\n",
    "    # Handle NaN values in the 'State' column by imputing them with \"UNKNOWN\"\n",
    "    complaints['State'].fillna('UNKNOWN', inplace=True)\n",
    "\n",
    "    # Handle NaN values in the 'Issue', 'Sub-product', 'Sub-issue', and 'State' columns by imputing them with \"NONE ENTERED\"\n",
    "    nan_col = ['Issue', 'Sub-product', 'Sub-issue', 'State']\n",
    "    for col in nan_col:\n",
    "        complaints[col].fillna('NONE ENTERED', inplace=True)\n",
    "\n",
    "    # Handle NaN values in the 'Consumer_disputed?' columns by imputing them with \"NO CONSUMER RESPONSE\"\n",
    "    complaints['Consumer_disputed?'].fillna(\"NO CONSUMER RESPONSE\", inplace=True)\n",
    "\n",
    "    return complaints"
   ]
  },
  {
   "cell_type": "code",
   "execution_count": 4,
   "metadata": {},
   "outputs": [],
   "source": [
    "complaints = create_complaints_df()"
   ]
  },
  {
   "cell_type": "code",
   "execution_count": 5,
   "metadata": {
    "scrolled": false
   },
   "outputs": [
    {
     "name": "stdout",
     "output_type": "stream",
     "text": [
      "<class 'pandas.core.frame.DataFrame'>\n",
      "Int64Index: 495006 entries, 4 to 1809404\n",
      "Data columns (total 16 columns):\n",
      " #   Column                        Non-Null Count   Dtype         \n",
      "---  ------                        --------------   -----         \n",
      " 0   Date_received                 495006 non-null  datetime64[ns]\n",
      " 1   Product                       495006 non-null  object        \n",
      " 2   Sub-product                   495006 non-null  object        \n",
      " 3   Issue                         495006 non-null  object        \n",
      " 4   Sub-issue                     495006 non-null  object        \n",
      " 5   Consumer_complaint_narrative  132216 non-null  object        \n",
      " 6   Company_public_response       177752 non-null  object        \n",
      " 7   Company                       495006 non-null  object        \n",
      " 8   State                         495006 non-null  object        \n",
      " 9   Tags                          70196 non-null   object        \n",
      " 10  Submitted_via                 495006 non-null  object        \n",
      " 11  Date_sent_to_company          495006 non-null  datetime64[ns]\n",
      " 12  Company_response_to_consumer  495006 non-null  object        \n",
      " 13  Timely_response?              495006 non-null  object        \n",
      " 14  Consumer_disputed?            495006 non-null  object        \n",
      " 15  Complaint_ID                  495006 non-null  int64         \n",
      "dtypes: datetime64[ns](2), int64(1), object(13)\n",
      "memory usage: 64.2+ MB\n"
     ]
    }
   ],
   "source": [
    "complaints.info()"
   ]
  },
  {
   "cell_type": "code",
   "execution_count": 6,
   "metadata": {},
   "outputs": [],
   "source": [
    "# Exporting dataframe to an Excel file\n",
    "complaints.to_excel('complaints.xlsx')"
   ]
  },
  {
   "cell_type": "markdown",
   "metadata": {},
   "source": [
    "***\n",
    "<a name=\"explore\"></a>\n",
    "## Exploratory Analysis\n",
    "### Tableau  \n",
    "Exploratory analysis of our dataset will be handled in Tableau for the remaining steps of this project.  \n",
    "\n",
    "https://public.tableau.com/views/CFPBAnalysis-TEST/CFPBAnalysis?:language=en&:display_count=y&publish=yes&:origin=viz_share_link\n",
    "    \n",
    "[Back to Top](#top)"
   ]
  },
  {
   "cell_type": "markdown",
   "metadata": {},
   "source": [
    "***\n",
    "<a name=\"deploy\"></a>\n",
    "## Deployment\n",
    "### Findings  \n",
    "The completed Tableau dashboard using the dataset created above can be explored [here](https://public.tableau.com/views/CFPBAnalysis-TEST/CFPBAnalysis?:language=en&:display_count=y&publish=yes&:origin=viz_share_link).\n",
    "\n",
    "Revisiting our business questions, our analysis has found that as of 09/22/2020:\n",
    "\n",
    "**1. How many complaints has the CFPB handled for the top 25 depository institutions?**  \n",
    "- The CFPB has handled 490,876 complaints for the top 25 depository institutions from 12/01/2011 - 09/22/2020  \n",
    "\n",
    "\n",
    "**2. What is the average amount of complaints recieved per 30 days and how does that compare to the most recent 30 days?**  \n",
    "- The CFPB historically averages 4,598 cases per 30 days and handled 5,879 complaints during the most recent 30 days.  \n",
    "- This suggests that there has been an increase in complaints over the past 30 days. Year by year analysis will be explored further below.  \n",
    "\n",
    "\n",
    "**3. What are the most common issues reported by consumers?**\n",
    "- The top 5 issues complaints have been received for are:  \n",
    "    Loan modification,collection,foreclosure - 67,210  \n",
    "    Managing an account - 36,836  \n",
    "    Loan servicing, payments, escrow account - 33,680  \n",
    "    Account opening, closing, or management - 30,148  \n",
    "    Deposits and withdrawals - 18,633  \n",
    "\n",
    "\n",
    "**4. What are the most common products that complaints are recieved for?**  \n",
    "- The top 5 products complaints have been received for are:  \n",
    "    Mortgage - 147,134  \n",
    "    Bank account or service - 69,213  \n",
    "    Credit card - 66,677  \n",
    "    Credit card or prepaid card - 60,007  \n",
    "    Checking or savings account - 58,334  \n",
    "\n",
    "\n",
    "**5. How does the complaint volume compare from year to year?**  \n",
    "- In 2020, complaint volume has increased compared to all previous years. Complaints began to increrase in March and decreased back down to more normal levels in September after an all time high of 6,820 complaints in July.  \n",
    "\n",
    "\n",
    "**6. Given that these top 25 depository institution's total assets are wide ranging, does an adjustment to asset size reveal that some companies have more complaints per \\$100 billion in total assets?**  \n",
    "- Yes. When adjusted for asset size, both Capital One and American Express have had far more complaints per \\$100 billion in total assets than any other top 25 depository institution.  \n",
    "- Comparitively, the top 4 depository institutions by total assets have the most complaints when not adjusted for asset size.  \n",
    "- Generally, outside of a few outlier companies, the data shows that the volume of complaints closely follows a bank's asset size as would be expected.\n",
    "    \n",
    "[Back to Top](#top)"
   ]
  },
  {
   "cell_type": "code",
   "execution_count": null,
   "metadata": {},
   "outputs": [],
   "source": []
  }
 ],
 "metadata": {
  "kernelspec": {
   "display_name": "Python 3",
   "language": "python",
   "name": "python3"
  },
  "language_info": {
   "codemirror_mode": {
    "name": "ipython",
    "version": 3
   },
   "file_extension": ".py",
   "mimetype": "text/x-python",
   "name": "python",
   "nbconvert_exporter": "python",
   "pygments_lexer": "ipython3",
   "version": "3.7.6"
  }
 },
 "nbformat": 4,
 "nbformat_minor": 2
}
