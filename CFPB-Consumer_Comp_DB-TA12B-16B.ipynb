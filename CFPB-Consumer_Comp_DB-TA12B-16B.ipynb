{
 "cells": [
  {
   "cell_type": "markdown",
   "metadata": {},
   "source": [
    "<a name=\"top\"></a>\n",
    "# Analysis of the CFPB Consumer Complaint Database Data\n",
    "### *Depository Institutions with Total Assets from \\$12-16 billion*\n",
    "Data provided by the [Consumer Finance Protection Bureau](https://www.consumerfinance.gov/).  \n",
    "*This analysis uses work previously completed in CFPB-Consumer_Comp_DB.ipynb*  \n",
    "\n",
    "Per the CFPB:\n",
    "\n",
    ">**About the database**  \n",
    "The Consumer Complaint Database is a collection of complaints about consumer financial products and services that we sent to companies for response. Complaints are published after the company responds, confirming a commercial relationship with the consumer, or after 15 days, whichever comes first. Complaints referred to other regulators, such as complaints about depository institutions with less than \\$10 billion in assets, are not published in the Consumer Complaint Database. The database generally updates daily.\n",
    "\n",
    "Click the link below to jump to the steps taken for this project:  \n",
    "[Business Understanding](#business_understanding)  \n",
    "[Data Understanding](#data_understanding)  \n",
    "[Data Preparation](#data_prep)  \n",
    "[Exploratory Analysis](#explore) (Tableau)  \n",
    "[Deployment](#deploy)  (Tableau)"
   ]
  },
  {
   "cell_type": "markdown",
   "metadata": {},
   "source": [
    "***\n",
    "<a name=\"business_understanding\"></a>\n",
    "## Business Understanding\n",
    "### Business Objective  \n",
    "Utilizing data from the CFPB's Consumer Complaint Database, the business objective of this analysis is to determine key attributes of consumer complaints for the top 25 depository institutions regulated by the CFPB.\n",
    "\n",
    "### Business Questions  \n",
    "\n",
    "1. How many complaints has the CFPB handled for the top 25 depository institutions?  \n",
    "2. What is the average amount of complaints recieved per 30 days and how does that compare to the most recent 30 days?\n",
    "3. What are the most common issues reported by consumers?\n",
    "4. What are the most common products that complaints are recieved for?\n",
    "4. How does the complaint volume compare from year to year?  \n",
    "5. Given that these top 25 depository institution's total assets are wide ranging, does an adjustment to asset size reveal that some companies have more complaints per $100 billion in total assets?  \n",
    "    - Total asset size can be found at the CFPB's web page for \"Institutions subject to CFPB supervisory authority\" located [here](https://www.consumerfinance.gov/policy-compliance/guidance/supervision-examinations/institutions/).\n",
    "    \n",
    "[Back to Top](#top)"
   ]
  },
  {
   "cell_type": "markdown",
   "metadata": {},
   "source": [
    "***\n",
    "<a name=\"data_understanding\"></a>\n",
    "## Data Understanding\n",
    "*(See CFPB-Consumer_Comp_DB.ipynb for the complete data understanding process used to examine the data in the Consumer Complaint Database.)*  \n",
    "\n",
    "The primary resource used for this analysis into the business questions noted above in the [Business Understanding](#business_understanding) section will be the CFPB's Consumer Complaint Database dataset located [here](https://www.consumerfinance.gov/data-research/consumer-complaints/):\n",
    "\n",
    "- [complaints.csv](#complaints) - A collection of complaints about consumer financial products and services that were sent to companies for response.\n",
    "\n",
    "Per the CFPB Consumer Complaint Database page:\n",
    "\n",
    "> **What you should consider when using the data**  \n",
    "> This database is not a statistical sample of consumers’ experiences in the marketplace. Complaints are not necessarily representative of all consumers’ experiences and complaints do not constitute “information” for purposes of the Information Quality Act.\n",
    ">\n",
    "> Complaint volume should be considered in the context of company size and/or market share. For example, companies with more customers may have more complaints than companies with fewer customers. We encourage you to pair complaint data with public and private data sets for additional context.\n",
    ">\n",
    ">The Bureau publishes the consumer’s narrative description of his or her experience if the consumer opts to share it publicly and after the Bureau takes steps to remove personal information. We don’t verify all the allegations in complaint narratives. Unproven allegations in consumer narratives should be regarded as opinion, not fact. We do not adopt the views expressed and make no representation that consumers’ allegations are accurate, clear, complete, or unbiased in substance or presentation. Users should consider what conclusions may be fairly drawn from complaints alone.\n",
    "\n",
    "And...\n",
    "\n",
    "> **How we use complaint data**  \n",
    "Complaints can give us insights into problems people are experiencing in the marketplace and help us regulate consumer financial products and services under existing federal consumer financial laws, enforce those laws judiciously, and educate and empower consumers to make informed financial decisions. We also report on complaint trends annually in Consumer Response’s Annual Report to Congress.\n",
    "\n",
    "[Back to Top](#top)"
   ]
  },
  {
   "cell_type": "markdown",
   "metadata": {},
   "source": [
    "***\n",
    "<a name=\"complaints\"></a>\n",
    "### Exploring complaints.csv\n",
    "Initial load of the complaints.csv file in order to learn what data has been provided by the CFPB.\n",
    "\n",
    "[Back to Top](#top)"
   ]
  },
  {
   "cell_type": "code",
   "execution_count": 6,
   "metadata": {},
   "outputs": [],
   "source": [
    "import os\n",
    "import numpy as np\n",
    "import pandas as pd\n",
    "import matplotlib.pyplot as plt\n",
    "from zipfile import ZipFile\n",
    "\n",
    "# Used for plotting\n",
    "%matplotlib inline\n",
    "import matplotlib as mpl\n",
    "import matplotlib.pyplot as plt\n",
    "\n",
    "import seaborn as sns\n",
    "\n",
    "# Filter to ignore math related warnings\n",
    "import warnings\n",
    "warnings.filterwarnings(action=\"ignore\", message=\"^internal gelsd\")"
   ]
  },
  {
   "cell_type": "code",
   "execution_count": 7,
   "metadata": {},
   "outputs": [],
   "source": [
    "complaints = pd.read_csv('C:/Users/Leone/Desktop/CFPB/complaints.csv')"
   ]
  },
  {
   "cell_type": "code",
   "execution_count": 8,
   "metadata": {},
   "outputs": [],
   "source": [
    "# Cleaning up the column names to make them easier to manage going forward\n",
    "complaints.columns = complaints.columns.str.replace(' ', '_')"
   ]
  },
  {
   "cell_type": "code",
   "execution_count": 9,
   "metadata": {},
   "outputs": [
    {
     "name": "stdout",
     "output_type": "stream",
     "text": [
      "<class 'pandas.core.frame.DataFrame'>\n",
      "RangeIndex: 1809406 entries, 0 to 1809405\n",
      "Data columns (total 2 columns):\n",
      " #   Column                Dtype         \n",
      "---  ------                -----         \n",
      " 0   Date_received         datetime64[ns]\n",
      " 1   Date_sent_to_company  datetime64[ns]\n",
      "dtypes: datetime64[ns](2)\n",
      "memory usage: 27.6 MB\n"
     ]
    }
   ],
   "source": [
    "# Converting the 'Date_received' and 'Date_sent_to_company' columns to datetime dtype\n",
    "\n",
    "complaints[['Date_received', 'Date_sent_to_company']] = complaints[['Date_received', 'Date_sent_to_company']].apply(pd.to_datetime)\n",
    "\n",
    "complaints[['Date_received', 'Date_sent_to_company']].info()"
   ]
  },
  {
   "cell_type": "code",
   "execution_count": 10,
   "metadata": {},
   "outputs": [
    {
     "data": {
      "text/plain": [
       "(5785, 1)"
      ]
     },
     "execution_count": 10,
     "metadata": {},
     "output_type": "execute_result"
    }
   ],
   "source": [
    "# Creating new df with unique values in the 'Company' column\n",
    "companies_list = complaints['Company'].unique()\n",
    "companies_df = pd.DataFrame({'Company': companies_list})\n",
    "companies_df.shape"
   ]
  },
  {
   "cell_type": "code",
   "execution_count": 11,
   "metadata": {},
   "outputs": [],
   "source": [
    "# Exporting dataframe to Excel\n",
    "# companies_df.to_excel('companies_list.xlsx')"
   ]
  },
  {
   "cell_type": "markdown",
   "metadata": {},
   "source": [
    "For the purposes of this data analysis, we will focus on the depository institutions with total assets ranging from &#0036;12-16 billion, represented on the CFPB's list of Depository Institutions subject to CFPB supervisory authority located [here](https://www.consumerfinance.gov/policy-compliance/guidance/supervision-examinations/institutions/).\n",
    "\n",
    "These depository institutions are (in alphabetical order):\n",
    "\n",
    "| **CFPB Depository List Company Name** | **DB Company Name** | **Total Assets** |\n",
    "| :---: | :---: | ---: |\n",
    "| ALLIANT CREDIT UNION | ALLIANT CREDIT UNION | &#0036;12,381,027,000 |\n",
    "| AMERICA FIRST FEDERAL CREDIT UNION | AMERICA FIRST FEDERAL CREDIT UNION | &#0036;12,219,989,000 |\n",
    "| APPLE BANK FOR SAVINGS | APPLE FINANCIAL HOLDINGS, INC. | &#0036;15,600,860,000 |\n",
    "| BANNER BANK | BANNER CORPORATION | &#0036;12,490,581,000 |\n",
    "| BERKSHIRE BANK | BERKSHIRE HILLS BANCORP, INC | &#0036;13,204,374,000 |\n",
    "| BREMER BANK, NATIONAL ASSOCIATION | BREMER BANK, NATIONAL ASSOCIATION | &#0036;13,210,697,000 |\n",
    "| CENTENNIAL BANK | HOME BANCSHARES, INC. | &#0036;15,500,274,000 |\n",
    "| COLUMBIA STATE BANK | COLUMBIA BANKING SYSTEM, INC. | &#0036;14,030,107,000 |\n",
    "| COMENITY BANK | Comenity Bank and Comenity Capital Bank | &#0036;12,143,555,000 |\n",
    "| CUSTOMERS BANK | CUSTOMERS BANCORP, INC | &#0036;12,010,267,000 |\n",
    "| EASTERN BANK | EASTERN BANK CORPORATION | &#0036;12,341,265,000 |\n",
    "| FIRST FINANCIAL BANK | FIRST FINANCIAL BANCORP | &#0036;14,986,621,000 |\n",
    "| FIRST INTERSTATE BANK | FIRST INTERSTATE BANCSYSTEM, INC. | &#0036;14,351,898,000 |\n",
    "| FIRST MERCHANTS BANK | FIRST MERCHANTS CORPORATION | &#0036;12,670,437,000 |\n",
    "| FIRST TECHNOLOGY FEDERAL CREDIT UNION | First Technology Federal Credit Union | &#0036;13,871,691,000 |\n",
    "| FIRSTBANK PUERTO RICO | FIRSTBANK PUERTO RICO | &#0036;13,034,340,000 |\n",
    "| GLACIER BANK | Glacier Bancorp Inc. | &#0036;15,147,427,000 |\n",
    "| GOLDEN 1 CREDIT UNION, THE | GOLDEN 1 CREDIT UNION, THE | &#0036;13,854,012,000 |\n",
    "| GREAT WESTERN BANK | GREAT WESTERN BANCORP, INC. | &#0036;12,385,469,000 |\n",
    "| INDEPENDENT BANK | INDEPENDENT BANK CORP. | &#0036;15,568,677,000 |\n",
    "| RENASANT BANK | RENASANT CORPORATION | &#0036;13,874,363,000 |\n",
    "| STIFEL BANK AND TRUST | STIFEL FINANCIAL CORP. | &#0036;14,909,515,000 |\n",
    "| THIRD FEDERAL SAVINGS & LOAN ASSOCIATION OF CLEVELAND | TFS FINANCIAL CORPORATION | &#0036;14,985,693,000 |\n",
    "| TOWNEBANK | TOWNEBANK | &#0036;12,623,843,000 |\n",
    "| TRUSTMARK NATIONAL BANK | TRUSTMARK CORPORATION | &#0036;14,017,762,000 |\n",
    "| UNITED COMMUNITY BANK | UNITED COMMUNITY BANK | &#0036;13,058,533,000 |\n",
    "| WESBANCO BANK, INC. | WESBANCO BANK, INC. | &#0036;15,964,561,000 |\n",
    "| WILMINGTON SAVINGS FUND SOCIETY, FSB | WSFS FINANCIAL CORPORATION | &#0036;12,247,429,000 |"
   ]
  },
  {
   "cell_type": "code",
   "execution_count": 14,
   "metadata": {},
   "outputs": [
    {
     "data": {
      "text/plain": [
       "FIRSTBANK PUERTO RICO                    401\n",
       "TFS FINANCIAL CORPORATION                219\n",
       "GOLDEN 1 CREDIT UNION, THE               174\n",
       "ALLIANT CREDIT UNION                     166\n",
       "TRUSTMARK CORPORATION                    156\n",
       "First Technology Federal Credit Union    142\n",
       "APPLE FINANCIAL HOLDINGS, INC.           104\n",
       "CUSTOMERS BANCORP, INC                    68\n",
       "GREAT WESTERN BANCORP, INC.               63\n",
       "AMERICA FIRST FEDERAL CREDIT UNION        59\n",
       "WSFS FINANCIAL CORPORATION                59\n",
       "FIRST INTERSTATE BANCSYSTEM, INC.         45\n",
       "FIRST FINANCIAL BANCORP                   42\n",
       "RENASANT CORPORATION                      41\n",
       "BERKSHIRE HILLS BANCORP, INC              35\n",
       "HOME BANCSHARES, INC.                     34\n",
       "UNITED COMMUNITY BANK                     33\n",
       "BANNER CORPORATION                        28\n",
       "WESBANCO BANK, INC.                       24\n",
       "COLUMBIA BANKING SYSTEM, INC.             22\n",
       "Glacier Bancorp Inc.                      21\n",
       "EASTERN BANK CORPORATION                  18\n",
       "BREMER BANK, NATIONAL ASSOCIATION         17\n",
       "STIFEL FINANCIAL CORP.                    10\n",
       "FIRST MERCHANTS CORPORATION                7\n",
       "INDEPENDENT BANK CORP.                     7\n",
       "TOWNEBANK                                  5\n",
       "Comenity Capital Bank                      2\n",
       "Comenity Bank                              2\n",
       "Name: Company, dtype: int64"
      ]
     },
     "execution_count": 14,
     "metadata": {},
     "output_type": "execute_result"
    }
   ],
   "source": [
    "# Keeping only the depository institutions with total assets from $12-$16 billion\n",
    "\n",
    "company_keep = ['ALLIANT CREDIT UNION', 'AMERICA FIRST FEDERAL CREDIT UNION', 'APPLE FINANCIAL HOLDINGS, INC.',\n",
    "                'BANNER CORPORATION', 'BERKSHIRE HILLS BANCORP, INC', 'BREMER BANK, NATIONAL ASSOCIATION', \n",
    "                'HOME BANCSHARES, INC.', 'COLUMBIA BANKING SYSTEM, INC.', 'Comenity Bank', 'Comenity Capital Bank', \n",
    "                'CUSTOMERS BANCORP, INC', 'EASTERN BANK CORPORATION', 'FIRST FINANCIAL BANCORP', 'FIRST INTERSTATE BANCSYSTEM, INC.', \n",
    "                'FIRST MERCHANTS CORPORATION', 'First Technology Federal Credit Union', 'FIRSTBANK PUERTO RICO',\n",
    "                'Glacier Bancorp Inc.', 'GOLDEN 1 CREDIT UNION, THE', 'GREAT WESTERN BANCORP, INC.', 'INDEPENDENT BANK CORP.', \n",
    "                'RENASANT CORPORATION', 'STIFEL FINANCIAL CORP.', 'TFS FINANCIAL CORPORATION', 'TOWNEBANK', \n",
    "                'TRUSTMARK CORPORATION', 'UNITED COMMUNITY BANK', 'WESBANCO BANK, INC.', 'WSFS FINANCIAL CORPORATION']\n",
    "\n",
    "complaints_TA12to16 = complaints[complaints['Company'].isin(company_keep)].copy()\n",
    "complaints_TA12to16['Company'].value_counts()"
   ]
  },
  {
   "cell_type": "code",
   "execution_count": 16,
   "metadata": {},
   "outputs": [
    {
     "data": {
      "text/plain": [
       "FIRSTBANK PUERTO RICO                    401\n",
       "TFS FINANCIAL CORPORATION                219\n",
       "GOLDEN 1 CREDIT UNION, THE               174\n",
       "ALLIANT CREDIT UNION                     166\n",
       "TRUSTMARK CORPORATION                    156\n",
       "First Technology Federal Credit Union    142\n",
       "APPLE FINANCIAL HOLDINGS, INC.           104\n",
       "CUSTOMERS BANCORP, INC                    68\n",
       "GREAT WESTERN BANCORP, INC.               63\n",
       "WSFS FINANCIAL CORPORATION                59\n",
       "AMERICA FIRST FEDERAL CREDIT UNION        59\n",
       "FIRST INTERSTATE BANCSYSTEM, INC.         45\n",
       "FIRST FINANCIAL BANCORP                   42\n",
       "RENASANT CORPORATION                      41\n",
       "BERKSHIRE HILLS BANCORP, INC              35\n",
       "HOME BANCSHARES, INC.                     34\n",
       "UNITED COMMUNITY BANK                     33\n",
       "BANNER CORPORATION                        28\n",
       "WESBANCO BANK, INC.                       24\n",
       "COLUMBIA BANKING SYSTEM, INC.             22\n",
       "Glacier Bancorp Inc.                      21\n",
       "EASTERN BANK CORPORATION                  18\n",
       "BREMER BANK, NATIONAL ASSOCIATION         17\n",
       "STIFEL FINANCIAL CORP.                    10\n",
       "FIRST MERCHANTS CORPORATION                7\n",
       "INDEPENDENT BANK CORP.                     7\n",
       "TOWNEBANK                                  5\n",
       "COMENITY BANK                              4\n",
       "Name: Company, dtype: int64"
      ]
     },
     "execution_count": 16,
     "metadata": {},
     "output_type": "execute_result"
    }
   ],
   "source": [
    "# Changing all 'Comenity Capital Bank' and 'Comenity Bank' values to be 'COMENITY BANK'\n",
    "comenity_comp = ['Comenity Capital Bank', 'Comenity Bank']\n",
    "\n",
    "complaints_TA12to16.loc[complaints_TA12to16['Company'].isin(comenity_comp), 'Company'] = 'COMENITY BANK'\n",
    "\n",
    "complaints_TA12to16['Company'].value_counts()"
   ]
  },
  {
   "cell_type": "markdown",
   "metadata": {},
   "source": [
    "***\n",
    "<a name=\"data_prep\"></a>\n",
    "## Data Preparation\n",
    "In this section, we will take learnings along with data preparation tasks from the Data Understanding step above in order to create functions that will make the data prepararation repeatable for future use.\n",
    "\n",
    "[Back to Top](#top)"
   ]
  },
  {
   "cell_type": "markdown",
   "metadata": {},
   "source": [
    "### Data Load and Clean Functions"
   ]
  },
  {
   "cell_type": "code",
   "execution_count": 17,
   "metadata": {},
   "outputs": [],
   "source": [
    "def complaints_df():\n",
    "\n",
    "    # Creating our dataframe from complaints.csv\n",
    "    complaints = pd.read_csv('C:/Users/Leone/Desktop/CFPB/complaints.csv',\n",
    "                             usecols=['Date received', 'Product', 'Sub-product', 'Issue', 'Sub-issue',\n",
    "                                      'Consumer complaint narrative', 'Company public response', 'Company', 'State',\n",
    "                                      'Tags', 'Submitted via', 'Date sent to company', 'Company response to consumer',\n",
    "                                      'Timely response?', 'Consumer disputed?', 'Complaint ID'])\n",
    "\n",
    "    return complaints\n",
    "\n",
    "\n",
    "def create_complaints_df():\n",
    "\n",
    "    # Create the complaints dataframe\n",
    "    complaints = complaints_df()\n",
    "\n",
    "    # Clean up the column names to make them easier to manage going forward\n",
    "    complaints.columns = complaints.columns.str.replace(' ', '_')\n",
    "\n",
    "    # Keep only the top 25 depository institutions based on total assets\n",
    "    company_keep = ['ALLIANT CREDIT UNION', 'AMERICA FIRST FEDERAL CREDIT UNION', 'APPLE FINANCIAL HOLDINGS, INC.',\n",
    "                    'BANNER CORPORATION', 'BERKSHIRE HILLS BANCORP, INC', 'BREMER BANK, NATIONAL ASSOCIATION', \n",
    "                    'HOME BANCSHARES, INC.', 'COLUMBIA BANKING SYSTEM, INC.', 'Comenity Bank', 'Comenity Capital Bank', \n",
    "                    'CUSTOMERS BANCORP, INC', 'EASTERN BANK CORPORATION', 'FIRST FINANCIAL BANCORP', 'FIRST INTERSTATE BANCSYSTEM, INC.', \n",
    "                    'FIRST MERCHANTS CORPORATION', 'First Technology Federal Credit Union', 'FIRSTBANK PUERTO RICO',\n",
    "                    'Glacier Bancorp Inc.', 'GOLDEN 1 CREDIT UNION, THE', 'GREAT WESTERN BANCORP, INC.', 'INDEPENDENT BANK CORP.', \n",
    "                    'RENASANT CORPORATION', 'STIFEL FINANCIAL CORP.', 'TFS FINANCIAL CORPORATION', 'TOWNEBANK', \n",
    "                    'TRUSTMARK CORPORATION', 'UNITED COMMUNITY BANK', 'WESBANCO BANK, INC.', 'WSFS FINANCIAL CORPORATION']\n",
    "    complaints = complaints[complaints['Company'].isin(company_keep)]\n",
    "    # Changing all 'Comenity Capital Bank' and 'Comenity Bank' values to be 'COMENITY BANK'\n",
    "    comenity_comp = ['Comenity Capital Bank', 'Comenity Bank']\n",
    "    complaints.loc[complaints['Company'].isin(comenity_comp), 'Company'] = 'COMENITY BANK'\n",
    "\n",
    "    # Changing all 'SUNTRUST BANKS, INC.' and 'BB&T CORPORATION' values to be 'TRUIST FINANCIAL CORPORATION'\n",
    "    former_comp = ['SUNTRUST BANKS, INC.', 'BB&T CORPORATION']\n",
    "    complaints.loc[complaints['Company'].isin(former_comp), 'Company'] = 'TRUIST FINANCIAL CORPORATION'\n",
    "\n",
    "    # Convert the 'Date_received' and 'Date_sent_to_company' columns to datetime dtype\n",
    "    complaints[['Date_received', 'Date_sent_to_company']] = complaints[['Date_received', 'Date_sent_to_company']].apply(pd.to_datetime)\n",
    "\n",
    "    # Handle NaN values\n",
    "    complaints = complaints_nan(complaints)\n",
    "    \n",
    "    # Change all values in the 'State' column that are not a state, \"DC\", or \"UNKNOWN\" to be \"OTHER\" \n",
    "    states = ['AK', 'AL', 'AR', 'AZ', 'CA', 'CO', 'CT', 'DC', 'DE', 'FL', 'GA', 'HI', 'IA', 'ID', 'IL', 'IN', 'KS',\n",
    "          'KY', 'LA', 'MA', 'MD', 'ME', 'MI', 'MN', 'MO', 'MS', 'MT', 'NC', 'ND', 'NE', 'NH', 'NJ', 'NM', 'NV',\n",
    "          'NY', 'OH', 'OK', 'OR', 'PA', 'RI', 'SC', 'SD', 'TN', 'TX', 'UT', 'VA', 'VT', 'WA', 'WI', 'WV', 'WY', \"UNKNOWN\"]\n",
    "\n",
    "    complaints.loc[~complaints['State'].isin(states), 'State'] = 'OTHER'\n",
    "\n",
    "    return complaints\n",
    "\n",
    "\n",
    "def complaints_nan(complaints):\n",
    "\n",
    "    # Handle NaN values in the 'State' column by imputing them with \"UNKNOWN\"\n",
    "    complaints['State'].fillna('UNKNOWN', inplace=True)\n",
    "\n",
    "    # Handle NaN values in the 'Issue', 'Sub-product', 'Sub-issue', and 'State' columns by imputing them with \"NONE ENTERED\"\n",
    "    nan_col = ['Issue', 'Sub-product', 'Sub-issue', 'State']\n",
    "    for col in nan_col:\n",
    "        complaints[col].fillna('NONE ENTERED', inplace=True)\n",
    "\n",
    "    # Handle NaN values in the 'Consumer_disputed?' columns by imputing them with \"NO CONSUMER RESPONSE\"\n",
    "    complaints['Consumer_disputed?'].fillna(\"NO CONSUMER RESPONSE\", inplace=True)\n",
    "\n",
    "    return complaints"
   ]
  },
  {
   "cell_type": "code",
   "execution_count": 18,
   "metadata": {},
   "outputs": [],
   "source": [
    "complaints = create_complaints_df()"
   ]
  },
  {
   "cell_type": "code",
   "execution_count": 19,
   "metadata": {},
   "outputs": [
    {
     "name": "stdout",
     "output_type": "stream",
     "text": [
      "<class 'pandas.core.frame.DataFrame'>\n",
      "Int64Index: 2004 entries, 1092 to 1809324\n",
      "Data columns (total 16 columns):\n",
      " #   Column                        Non-Null Count  Dtype         \n",
      "---  ------                        --------------  -----         \n",
      " 0   Date_received                 2004 non-null   datetime64[ns]\n",
      " 1   Product                       2004 non-null   object        \n",
      " 2   Sub-product                   2004 non-null   object        \n",
      " 3   Issue                         2004 non-null   object        \n",
      " 4   Sub-issue                     2004 non-null   object        \n",
      " 5   Consumer_complaint_narrative  579 non-null    object        \n",
      " 6   Company_public_response       865 non-null    object        \n",
      " 7   Company                       2004 non-null   object        \n",
      " 8   State                         2004 non-null   object        \n",
      " 9   Tags                          295 non-null    object        \n",
      " 10  Submitted_via                 2004 non-null   object        \n",
      " 11  Date_sent_to_company          2004 non-null   datetime64[ns]\n",
      " 12  Company_response_to_consumer  2004 non-null   object        \n",
      " 13  Timely_response?              2004 non-null   object        \n",
      " 14  Consumer_disputed?            2004 non-null   object        \n",
      " 15  Complaint_ID                  2004 non-null   int64         \n",
      "dtypes: datetime64[ns](2), int64(1), object(13)\n",
      "memory usage: 266.2+ KB\n"
     ]
    }
   ],
   "source": [
    "complaints.info()"
   ]
  },
  {
   "cell_type": "code",
   "execution_count": 20,
   "metadata": {},
   "outputs": [],
   "source": [
    "# Exporting dataframe to an Excel file\n",
    "complaints.to_excel('complaints-TA12-16.xlsx')"
   ]
  },
  {
   "cell_type": "markdown",
   "metadata": {},
   "source": [
    "***\n",
    "<a name=\"explore\"></a>\n",
    "## Exploratory Analysis\n",
    "### Tableau  \n",
    "Exploratory analysis of our dataset will be handled in Tableau for the remaining steps of this project.  \n",
    "\n",
    "https://public.tableau.com/views/CFPBAnalysis-TEST/CFPBAnalysis?:language=en&:display_count=y&publish=yes&:origin=viz_share_link\n",
    "    \n",
    "[Back to Top](#top)"
   ]
  },
  {
   "cell_type": "code",
   "execution_count": 23,
   "metadata": {},
   "outputs": [
    {
     "data": {
      "image/png": "[encoded data removed]",
      "text/plain": [
       "<Figure size 1080x792 with 1 Axes>"
      ]
     },
     "metadata": {
      "needs_background": "light"
     },
     "output_type": "display_data"
    }
   ],
   "source": [
    "### Complaint Volume 12/2011 through 09/2020 - Line Graph\n",
    "# Plotting a line graph to show the weekly volume of complaints from 12/2011 through 09/2020\n",
    "fig, ax = plt.subplots(figsize=(15, 11))\n",
    "comp_graph = complaints[['Date_received', 'Complaint_ID']].copy()\n",
    "\n",
    "# Filter by date range so that the visualization covers exact weeks with no partial weeks\n",
    "comp_graph = comp_graph[(comp_graph['Date_received'] > '2011-12-04') & (comp_graph['Date_received'] < '2020-10-03')]\n",
    "\n",
    "count_by_date = comp_graph.groupby(['Date_received'])['Complaint_ID'].size()\n",
    "\n",
    "plt.subplot(211)\n",
    "\n",
    "# Resample time series to weekly for easier visualization\n",
    "count_by_date.resample('W').sum().plot()\n",
    "\n",
    "plt.xlabel('Date')\n",
    "plt.ylabel('# of Complaints')\n",
    "plt.suptitle('Number of Complaints (by Week):  December 2011 - September 2020', y=0.93, fontsize=16)\n",
    "plt.title('CFPB Depository Institutions (total assets \\$12-\\$16 billion) as of March 2020');\n",
    "\n",
    "# plt.savefig('AVG_List_Price', bbox_inches='tight');"
   ]
  },
  {
   "cell_type": "code",
   "execution_count": null,
   "metadata": {},
   "outputs": [],
   "source": []
  }
 ],
 "metadata": {
  "kernelspec": {
   "display_name": "Python 3",
   "language": "python",
   "name": "python3"
  },
  "language_info": {
   "codemirror_mode": {
    "name": "ipython",
    "version": 3
   },
   "file_extension": ".py",
   "mimetype": "text/x-python",
   "name": "python",
   "nbconvert_exporter": "python",
   "pygments_lexer": "ipython3",
   "version": "3.7.6"
  }
 },
 "nbformat": 4,
 "nbformat_minor": 4
}
